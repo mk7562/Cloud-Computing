{
 "cells": [
  {
   "cell_type": "code",
   "execution_count": 48,
   "id": "a42fd945-8c83-42e8-a826-810628f64d19",
   "metadata": {},
   "outputs": [],
   "source": [
    "from pyspark.sql import SparkSession\n",
    "from pyspark.sql.functions import col,desc,sum,avg,array_contains, when\n",
    "from pyspark.sql.types import StructType, StructField, StringType"
   ]
  },
  {
   "cell_type": "code",
   "execution_count": 49,
   "id": "c6dbc94c-9a52-4316-9d77-ebf0c72673c3",
   "metadata": {},
   "outputs": [],
   "source": [
    "sc = SparkSession.builder \\\n",
    "    .master(\"spark://ravi:7077\") \\\n",
    "    .config(\"spark.sql.debug.maxToStringFields\", 1000) \\\n",
    "    .getOrCreate()"
   ]
  },
  {
   "cell_type": "code",
   "execution_count": 50,
   "id": "b9acdf24-e62b-4408-a715-bfde9a6964b1",
   "metadata": {},
   "outputs": [],
   "source": [
    "books = sc.read.csv('hdfs://ravi:9000/Books.csv',header=True)\n",
    "users = sc.read.csv('hdfs://ravi:9000/Users.csv',header=True)\n",
    "ratings = sc.read.csv('hdfs://ravi:9000/Ratings.csv',header=True)"
   ]
  },
  {
   "cell_type": "code",
   "execution_count": 51,
   "id": "25a11cf4-c951-45ed-8059-56118e170bff",
   "metadata": {},
   "outputs": [
    {
     "name": "stdout",
     "output_type": "stream",
     "text": [
      "+----------+--------------------+--------------------+-------------------+--------------------+--------------------+--------------------+--------------------+\n",
      "|      ISBN|          Book-Title|         Book-Author|Year-Of-Publication|           Publisher|         Image-URL-S|         Image-URL-M|         Image-URL-L|\n",
      "+----------+--------------------+--------------------+-------------------+--------------------+--------------------+--------------------+--------------------+\n",
      "|0195153448| Classical Mythology|  Mark P. O. Morford|               2002|Oxford University...|http://images.ama...|http://images.ama...|http://images.ama...|\n",
      "|0002005018|        Clara Callan|Richard Bruce Wright|               2001|HarperFlamingo Ca...|http://images.ama...|http://images.ama...|http://images.ama...|\n",
      "|0060973129|Decision in Normandy|        Carlo D'Este|               1991|     HarperPerennial|http://images.ama...|http://images.ama...|http://images.ama...|\n",
      "|0374157065|Flu: The Story of...|    Gina Bari Kolata|               1999|Farrar Straus Giroux|http://images.ama...|http://images.ama...|http://images.ama...|\n",
      "|0393045218|The Mummies of Ur...|     E. J. W. Barber|               1999|W. W. Norton &amp...|http://images.ama...|http://images.ama...|http://images.ama...|\n",
      "|0399135782|The Kitchen God's...|             Amy Tan|               1991|    Putnam Pub Group|http://images.ama...|http://images.ama...|http://images.ama...|\n",
      "|0425176428|What If?: The Wor...|       Robert Cowley|               2000|Berkley Publishin...|http://images.ama...|http://images.ama...|http://images.ama...|\n",
      "|0671870432|     PLEADING GUILTY|         Scott Turow|               1993|          Audioworks|http://images.ama...|http://images.ama...|http://images.ama...|\n",
      "|0679425608|Under the Black F...|     David Cordingly|               1996|        Random House|http://images.ama...|http://images.ama...|http://images.ama...|\n",
      "|074322678X|Where You'll Find...|         Ann Beattie|               2002|            Scribner|http://images.ama...|http://images.ama...|http://images.ama...|\n",
      "|0771074670|Nights Below Stat...|David Adams Richards|               1988|     Emblem Editions|http://images.ama...|http://images.ama...|http://images.ama...|\n",
      "|080652121X|Hitler's Secret B...|          Adam Lebor|               2000|       Citadel Press|http://images.ama...|http://images.ama...|http://images.ama...|\n",
      "|0887841740|  The Middle Stories|         Sheila Heti|               2004|House of Anansi P...|http://images.ama...|http://images.ama...|http://images.ama...|\n",
      "|1552041778|            Jane Doe|        R. J. Kaiser|               1999|          Mira Books|http://images.ama...|http://images.ama...|http://images.ama...|\n",
      "|1558746218|A Second Chicken ...|       Jack Canfield|               1998|Health Communicat...|http://images.ama...|http://images.ama...|http://images.ama...|\n",
      "|1567407781|The Witchfinder (...|   Loren D. Estleman|               1998|Brilliance Audio ...|http://images.ama...|http://images.ama...|http://images.ama...|\n",
      "|1575663937|More Cunning Than...|  Robert Hendrickson|               1999|Kensington Publis...|http://images.ama...|http://images.ama...|http://images.ama...|\n",
      "|1881320189|Goodbye to the Bu...|        Julia Oliver|               1994|      River City Pub|http://images.ama...|http://images.ama...|http://images.ama...|\n",
      "|0440234743|       The Testament|        John Grisham|               1999|                Dell|http://images.ama...|http://images.ama...|http://images.ama...|\n",
      "|0452264464|Beloved (Plume Co...|       Toni Morrison|               1994|               Plume|http://images.ama...|http://images.ama...|http://images.ama...|\n",
      "+----------+--------------------+--------------------+-------------------+--------------------+--------------------+--------------------+--------------------+\n",
      "only showing top 20 rows\n",
      "\n"
     ]
    }
   ],
   "source": [
    "books.show()"
   ]
  },
  {
   "cell_type": "code",
   "execution_count": 52,
   "id": "363ab5bc-2f4b-4f9d-be39-0360c169dc04",
   "metadata": {},
   "outputs": [
    {
     "name": "stdout",
     "output_type": "stream",
     "text": [
      "+-------+--------------------+----+\n",
      "|User-ID|            Location| Age|\n",
      "+-------+--------------------+----+\n",
      "|      1|  nyc, new york, usa|NULL|\n",
      "|      2|stockton, califor...|18.0|\n",
      "|      3|moscow, yukon ter...|NULL|\n",
      "|      4|porto, v.n.gaia, ...|17.0|\n",
      "|      5|farnborough, hant...|NULL|\n",
      "|      6|santa monica, cal...|61.0|\n",
      "|      7| washington, dc, usa|NULL|\n",
      "|      8|timmins, ontario,...|NULL|\n",
      "|      9|germantown, tenne...|NULL|\n",
      "|     10|albacete, wiscons...|26.0|\n",
      "|     11|melbourne, victor...|14.0|\n",
      "|     12|fort bragg, calif...|NULL|\n",
      "|     13|barcelona, barcel...|26.0|\n",
      "|     14|mediapolis, iowa,...|NULL|\n",
      "|     15|calgary, alberta,...|NULL|\n",
      "|     16|albuquerque, new ...|NULL|\n",
      "|     17|chesapeake, virgi...|NULL|\n",
      "|     18|rio de janeiro, r...|25.0|\n",
      "|     19|           weston, ,|14.0|\n",
      "|     20|langhorne, pennsy...|19.0|\n",
      "+-------+--------------------+----+\n",
      "only showing top 20 rows\n",
      "\n"
     ]
    }
   ],
   "source": [
    "users.show()"
   ]
  },
  {
   "cell_type": "code",
   "execution_count": 53,
   "id": "98a0a1ec-16e5-4bda-99a8-1df1d3bad4a0",
   "metadata": {},
   "outputs": [
    {
     "name": "stdout",
     "output_type": "stream",
     "text": [
      "+-------+----------+-----------+\n",
      "|User-ID|      ISBN|Book-Rating|\n",
      "+-------+----------+-----------+\n",
      "| 276725|034545104X|          0|\n",
      "| 276726|0155061224|          5|\n",
      "| 276727|0446520802|          0|\n",
      "| 276729|052165615X|          3|\n",
      "| 276729|0521795028|          6|\n",
      "| 276733|2080674722|          0|\n",
      "| 276736|3257224281|          8|\n",
      "| 276737|0600570967|          6|\n",
      "| 276744|038550120X|          7|\n",
      "| 276745| 342310538|         10|\n",
      "| 276746|0425115801|          0|\n",
      "| 276746|0449006522|          0|\n",
      "| 276746|0553561618|          0|\n",
      "| 276746|055356451X|          0|\n",
      "| 276746|0786013990|          0|\n",
      "| 276746|0786014512|          0|\n",
      "| 276747|0060517794|          9|\n",
      "| 276747|0451192001|          0|\n",
      "| 276747|0609801279|          0|\n",
      "| 276747|0671537458|          9|\n",
      "+-------+----------+-----------+\n",
      "only showing top 20 rows\n",
      "\n"
     ]
    }
   ],
   "source": [
    "ratings.show()"
   ]
  },
  {
   "cell_type": "code",
   "execution_count": 54,
   "id": "d031c499-182a-4a69-bdc6-26221eac5ee7",
   "metadata": {},
   "outputs": [
    {
     "name": "stdout",
     "output_type": "stream",
     "text": [
      "Books DataFrame shape: (271360, 8)\n"
     ]
    }
   ],
   "source": [
    "books_rows = books.count()\n",
    "books_columns = len(books.columns)\n",
    "print(\"Books DataFrame shape: ({}, {})\".format(books_rows, books_columns))"
   ]
  },
  {
   "cell_type": "code",
   "execution_count": 55,
   "id": "d7a2a6a8-f3ad-40af-bd61-9424b0a33e47",
   "metadata": {},
   "outputs": [
    {
     "name": "stdout",
     "output_type": "stream",
     "text": [
      "Ratings DataFrame shape: (1149780, 3)\n"
     ]
    }
   ],
   "source": [
    "ratings_rows = ratings.count()\n",
    "ratings_columns = len(ratings.columns)\n",
    "print(\"Ratings DataFrame shape: ({}, {})\".format(ratings_rows, ratings_columns))"
   ]
  },
  {
   "cell_type": "code",
   "execution_count": 56,
   "id": "1aab17ef-02e4-42ef-870b-5c77e6384aba",
   "metadata": {},
   "outputs": [
    {
     "name": "stdout",
     "output_type": "stream",
     "text": [
      "Users DataFrame shape: (278859, 3)\n"
     ]
    }
   ],
   "source": [
    "users_rows = users.count()\n",
    "users_columns = len(users.columns)\n",
    "print(\"Users DataFrame shape: ({}, {})\".format(users_rows, users_columns))"
   ]
  },
  {
   "cell_type": "code",
   "execution_count": 57,
   "id": "e51307bf-ee14-4b7f-99cc-a89a11944287",
   "metadata": {},
   "outputs": [
    {
     "name": "stdout",
     "output_type": "stream",
     "text": [
      "+----+----------+-----------+-------------------+---------+-----------+-----------+-----------+\n",
      "|ISBN|Book-Title|Book-Author|Year-Of-Publication|Publisher|Image-URL-S|Image-URL-M|Image-URL-L|\n",
      "+----+----------+-----------+-------------------+---------+-----------+-----------+-----------+\n",
      "|   0|         0|          1|                  0|        2|          0|          0|          3|\n",
      "+----+----------+-----------+-------------------+---------+-----------+-----------+-----------+\n",
      "\n"
     ]
    }
   ],
   "source": [
    "\n",
    "# Calculate the count of null values for each column in the books DataFrame\n",
    "null_counts = books.select([sum(when(col(c).isNull(), 1).otherwise(0)).alias(c) for c in books.columns])\n",
    "\n",
    "# Print the count of null values for each column\n",
    "null_counts.show()"
   ]
  },
  {
   "cell_type": "code",
   "execution_count": 58,
   "id": "c3b21d42-f6b2-43e3-b4d8-5ebaf5c16f6f",
   "metadata": {},
   "outputs": [
    {
     "name": "stdout",
     "output_type": "stream",
     "text": [
      "+-------+--------+------+\n",
      "|User-ID|Location|   Age|\n",
      "+-------+--------+------+\n",
      "|      1|       0|110518|\n",
      "+-------+--------+------+\n",
      "\n"
     ]
    }
   ],
   "source": [
    "# Calculate the count of null values for each column in the books DataFrame\n",
    "null_count = users.select([sum(when(col(c).isNull(), 1).otherwise(0)).alias(c) for c in users.columns])\n",
    "\n",
    "# Print the count of null values for each column\n",
    "null_count.show()"
   ]
  },
  {
   "cell_type": "code",
   "execution_count": 59,
   "id": "dcddd40d-89df-4749-b1d9-e0ec594cea50",
   "metadata": {},
   "outputs": [
    {
     "name": "stdout",
     "output_type": "stream",
     "text": [
      "+-------+----+-----------+\n",
      "|User-ID|ISBN|Book-Rating|\n",
      "+-------+----+-----------+\n",
      "|      0|   0|          0|\n",
      "+-------+----+-----------+\n",
      "\n"
     ]
    }
   ],
   "source": [
    "# Calculate the count of null values for each column in the books DataFrame\n",
    "null_con = ratings.select([sum(when(col(c).isNull(), 1).otherwise(0)).alias(c) for c in ratings.columns])\n",
    "\n",
    "# Print the count of null values for each column\n",
    "null_con.show()"
   ]
  },
  {
   "cell_type": "code",
   "execution_count": 60,
   "id": "2c39c756-5e3d-47b1-84e4-0b0823dba782",
   "metadata": {},
   "outputs": [
    {
     "name": "stdout",
     "output_type": "stream",
     "text": [
      "Number of duplicate rows: None\n"
     ]
    }
   ],
   "source": [
    "from pyspark.sql.functions import count, lit\n",
    "\n",
    "# Count the number of duplicate rows in the books DataFrame\n",
    "duplicate_counts = (\n",
    "    books.select(\"*\")\n",
    "    .groupBy(*books.columns)\n",
    "    .agg(count(lit(1)).alias(\"count\"))\n",
    "    .filter(\"count > 1\")\n",
    "    .agg(sum(\"count\").alias(\"total_duplicates\"))\n",
    "    .collect()[0][\"total_duplicates\"]\n",
    ")\n",
    "\n",
    "print(f\"Number of duplicate rows: {duplicate_counts}\")"
   ]
  },
  {
   "cell_type": "code",
   "execution_count": 61,
   "id": "f1b9dfc2-3112-47cc-96fe-9614560b2091",
   "metadata": {},
   "outputs": [
    {
     "name": "stdout",
     "output_type": "stream",
     "text": [
      "Number of duplicate rows: None\n"
     ]
    }
   ],
   "source": [
    "# Count the number of duplicate rows in the books DataFrame\n",
    "duplicate_count= (\n",
    "    users.select(\"*\")\n",
    "    .groupBy(*users.columns)\n",
    "    .agg(count(lit(1)).alias(\"count\"))\n",
    "    .filter(\"count > 1\")\n",
    "    .agg(sum(\"count\").alias(\"total_duplicates\"))\n",
    "    .collect()[0][\"total_duplicates\"]\n",
    ")\n",
    "\n",
    "print(f\"Number of duplicate rows: {duplicate_count}\")"
   ]
  },
  {
   "cell_type": "code",
   "execution_count": 62,
   "id": "80ab2460-f895-4db0-ae87-c8a2c2fe2d86",
   "metadata": {},
   "outputs": [
    {
     "name": "stderr",
     "output_type": "stream",
     "text": [
      "[Stage 189:===============================================>         (5 + 1) / 6]\r"
     ]
    },
    {
     "name": "stdout",
     "output_type": "stream",
     "text": [
      "Number of duplicate rows: None\n"
     ]
    },
    {
     "name": "stderr",
     "output_type": "stream",
     "text": [
      "                                                                                \r"
     ]
    }
   ],
   "source": [
    "# Count the number of duplicate rows in the books DataFrame\n",
    "duplicate_con= (\n",
    "    ratings.select(\"*\")\n",
    "    .groupBy(*ratings.columns)\n",
    "    .agg(count(lit(1)).alias(\"count\"))\n",
    "    .filter(\"count > 1\")\n",
    "    .agg(sum(\"count\").alias(\"total_duplicates\"))\n",
    "    .collect()[0][\"total_duplicates\"]\n",
    ")\n",
    "\n",
    "print(f\"Number of duplicate rows: {duplicate_con}\")"
   ]
  },
  {
   "cell_type": "code",
   "execution_count": 63,
   "id": "f385f829-b90b-45ac-90df-b2c99847dafd",
   "metadata": {},
   "outputs": [],
   "source": [
    "####Popularity Based Recommendation System"
   ]
  },
  {
   "cell_type": "code",
   "execution_count": 64,
   "id": "57cd02c1-32d2-4995-98d7-70a43355068f",
   "metadata": {},
   "outputs": [],
   "source": [
    "ratings_with_name = ratings.join(books, ratings.ISBN == books.ISBN, \"inner\").drop(books.ISBN)"
   ]
  },
  {
   "cell_type": "code",
   "execution_count": 65,
   "id": "4b2313d2-9e75-4dca-965e-1fba51e71e80",
   "metadata": {},
   "outputs": [
    {
     "name": "stderr",
     "output_type": "stream",
     "text": [
      "[Stage 195:========>        (3 + 3) / 6][Stage 196:========>        (4 + 4) / 8]\r"
     ]
    },
    {
     "name": "stdout",
     "output_type": "stream",
     "text": [
      "+--------------------+-----------+\n",
      "|          Book-Title|num_ratings|\n",
      "+--------------------+-----------+\n",
      "|Survival Guide to...|          1|\n",
      "|              Apt. 3|          1|\n",
      "|     In the Clearing|          2|\n",
      "|Too Many Men : A ...|          4|\n",
      "|Circles of Confus...|          1|\n",
      "|Emily Post's Wedd...|          2|\n",
      "|Two of a Kind #15...|          1|\n",
      "|Speculations: The...|          1|\n",
      "|The broom of the ...|          2|\n",
      "|  Fran Ellen's House|          2|\n",
      "|Queen of Spades a...|          1|\n",
      "|Cooking in a Beds...|          2|\n",
      "|Witnesses to War:...|          1|\n",
      "|The Dream of the ...|          2|\n",
      "|The Wizard's Holi...|          3|\n",
      "|Madness and Sexua...|          1|\n",
      "|    Rapture's Legacy|          2|\n",
      "|Fallen Hero/the S...|          1|\n",
      "|Red Earth and Pou...|          1|\n",
      "|Last Train to Mem...|          5|\n",
      "+--------------------+-----------+\n",
      "only showing top 20 rows\n",
      "\n"
     ]
    },
    {
     "name": "stderr",
     "output_type": "stream",
     "text": [
      "                                                                                \r"
     ]
    }
   ],
   "source": [
    "num_rating_df = ratings_with_name.groupBy('Book-Title').agg(count(col('Book-Rating')).alias('num_ratings'))\n",
    "\n",
    "# Show the resulting DataFrame\n",
    "num_rating_df.show()"
   ]
  },
  {
   "cell_type": "code",
   "execution_count": 66,
   "id": "cd2d3271-8e22-41f1-a769-a54ba919e477",
   "metadata": {},
   "outputs": [
    {
     "name": "stderr",
     "output_type": "stream",
     "text": [
      "[Stage 204:==============>  (5 + 1) / 6][Stage 205:==========>      (5 + 3) / 8]\r"
     ]
    },
    {
     "name": "stdout",
     "output_type": "stream",
     "text": [
      "+--------------------+------------------+\n",
      "|          Book-Title|       avg_ratings|\n",
      "+--------------------+------------------+\n",
      "|Survival Guide to...|               0.0|\n",
      "|              Apt. 3|               0.0|\n",
      "|     In the Clearing|               5.0|\n",
      "|Too Many Men : A ...|               0.0|\n",
      "|Circles of Confus...|               0.0|\n",
      "|Emily Post's Wedd...|               4.5|\n",
      "|Two of a Kind #15...|               0.0|\n",
      "|Speculations: The...|               0.0|\n",
      "|The broom of the ...|               4.0|\n",
      "|  Fran Ellen's House|               0.0|\n",
      "|Queen of Spades a...|              10.0|\n",
      "|Cooking in a Beds...|               6.5|\n",
      "|Witnesses to War:...|               0.0|\n",
      "|The Dream of the ...|               1.5|\n",
      "|The Wizard's Holi...|3.3333333333333335|\n",
      "|Madness and Sexua...|               5.0|\n",
      "|    Rapture's Legacy|               0.0|\n",
      "|Fallen Hero/the S...|               0.0|\n",
      "|Red Earth and Pou...|               0.0|\n",
      "|Last Train to Mem...|               3.6|\n",
      "+--------------------+------------------+\n",
      "only showing top 20 rows\n",
      "\n"
     ]
    },
    {
     "name": "stderr",
     "output_type": "stream",
     "text": [
      "                                                                                \r"
     ]
    }
   ],
   "source": [
    "avg_rating_df = ratings_with_name.groupBy('Book-Title').agg(avg('Book-Rating').alias('avg_ratings'))\n",
    "\n",
    "# Show the resulting DataFrame\n",
    "avg_rating_df.show()"
   ]
  },
  {
   "cell_type": "code",
   "execution_count": 67,
   "id": "8231121d-62b8-4f8c-8843-56c5a5eb5e41",
   "metadata": {},
   "outputs": [
    {
     "name": "stderr",
     "output_type": "stream",
     "text": [
      "[Stage 218:============================>                            (4 + 4) / 8]\r"
     ]
    },
    {
     "name": "stdout",
     "output_type": "stream",
     "text": [
      "+--------------------+-----------+------------------+\n",
      "|          Book-Title|num_ratings|       avg_ratings|\n",
      "+--------------------+-----------+------------------+\n",
      "| A Light in the S...|          4|              2.25|\n",
      "| Ask Lily (Young ...|          1|               8.0|\n",
      "| Flight of Fancy:...|          2|               4.0|\n",
      "| Murder of a Slee...|         11|3.1818181818181817|\n",
      "| Q-Space (Star Tr...|         17|1.9411764705882353|\n",
      "| Summonings: Book...|          2|               7.0|\n",
      "| This Place Has N...|          9|               2.0|\n",
      "|                !Yo!|         11| 5.181818181818182|\n",
      "|\"A Wing and a Pra...|          1|               7.0|\n",
      "|\"Active Drama Pla...|          2|               3.0|\n",
      "|\"Best Places Nort...|          1|               0.0|\n",
      "|\"Best \\Thinking M...|          3|2.3333333333333335|\n",
      "|\"Black Sheep One ...|          2|               0.0|\n",
      "|\"Cannery Row (Ste...|          2|               3.5|\n",
      "|\"Cinderella and O...|          5|               1.8|\n",
      "|\"Deslices histÃ³r...|          1|               6.0|\n",
      "|\"Devil in a Blue ...|          7|3.4285714285714284|\n",
      "|\"Elements of the ...|          2|               0.0|\n",
      "|\"Flatlander/the C...|          6|2.3333333333333335|\n",
      "|\"HistÃ²ries margi...|          6|1.8333333333333333|\n",
      "+--------------------+-----------+------------------+\n",
      "only showing top 20 rows\n",
      "\n"
     ]
    },
    {
     "name": "stderr",
     "output_type": "stream",
     "text": [
      "                                                                                \r"
     ]
    }
   ],
   "source": [
    "# Perform join operation\n",
    "popular_df = num_rating_df.join(avg_rating_df, 'Book-Title', 'inner')\n",
    "\n",
    "# Show the resulting DataFrame\n",
    "popular_df.show()"
   ]
  },
  {
   "cell_type": "code",
   "execution_count": 68,
   "id": "3ebbe39d-ed3f-4329-a8e2-b1f9f929a58d",
   "metadata": {},
   "outputs": [],
   "source": [
    "# # Filter and sort popular_df\n",
    "# popular_df = popular_df.filter(col('num_ratings') >= 250) \\\n",
    "#     .sort(col('avg_ratings').desc()) \\\n",
    "#     .limit(50)"
   ]
  },
  {
   "cell_type": "code",
   "execution_count": null,
   "id": "7612b9bf-afb2-432c-a0f0-5677ea68e3cb",
   "metadata": {},
   "outputs": [],
   "source": [
    "# popular_df = popular_df.join(books, on='Book-Title', how='left') \\\n",
    "#                        .dropDuplicates(['Book-Title']) \\\n",
    "#                        .select('Book-Title', 'Book-Author','Image-URL-L','num_ratings', 'avg_ratings')"
   ]
  },
  {
   "cell_type": "code",
   "execution_count": null,
   "id": "998b75b1-059d-4c9e-a6c8-c923152d3a4b",
   "metadata": {},
   "outputs": [],
   "source": [
    "from pyspark.sql.functions import col, desc\n",
    "\n",
    "# Filter and sort popular_df\n",
    "popular_df = popular_df.filter(col('num_ratings') >= 250) \\\n",
    "                        .sort(col('avg_ratings').desc()) \\\n",
    "                        .limit(50)\n",
    "\n",
    "popular_df = popular_df.join(books, on='Book-Title', how='left') \\\n",
    "                        .dropDuplicates(['Book-Title']) \\\n",
    "                        .select('Book-Title', 'books.Book-Author', 'Image-URL-L', 'num_ratings', 'avg_ratings')\n",
    "\n",
    "# Print the DataFrame sorted in descending order of avg_ratings\n",
    "popular_df.sort(desc('avg_ratings')).show()"
   ]
  },
  {
   "cell_type": "code",
   "execution_count": 85,
   "id": "005226e0-c973-4da9-b87d-af53a4c702de",
   "metadata": {},
   "outputs": [
    {
     "name": "stderr",
     "output_type": "stream",
     "text": [
      "[Stage 332:============================>                            (4 + 4) / 8]\r"
     ]
    },
    {
     "name": "stdout",
     "output_type": "stream",
     "text": [
      "+--------------------+------------------+--------------------+-----------+------------------+\n",
      "|          Book-Title|       Book-Author|         Image-URL-L|num_ratings|       avg_ratings|\n",
      "+--------------------+------------------+--------------------+-----------+------------------+\n",
      "|Harry Potter and ...|     J. K. Rowling|http://images.ama...|        428| 5.852803738317757|\n",
      "|Harry Potter and ...|     J. K. Rowling|http://images.ama...|        387|5.8242894056847545|\n",
      "|Harry Potter and ...|     J. K. Rowling|http://images.ama...|        278| 5.737410071942446|\n",
      "|Harry Potter and ...|     J. K. Rowling|http://images.ama...|        347| 5.501440922190202|\n",
      "|Harry Potter and ...|     J. K. Rowling|http://images.ama...|        556| 5.183453237410072|\n",
      "|The Hobbit : The ...|    J.R.R. TOLKIEN|http://images.ama...|        281|  5.00711743772242|\n",
      "|The Fellowship of...|    J.R.R. TOLKIEN|http://images.ama...|        368| 4.948369565217392|\n",
      "|Harry Potter and ...|     J. K. Rowling|http://images.ama...|        575| 4.895652173913043|\n",
      "|The Two Towers (T...|    J.R.R. TOLKIEN|http://images.ama...|        260| 4.880769230769231|\n",
      "|To Kill a Mocking...|        Harper Lee|http://images.ama...|        510|               4.7|\n",
      "|   The Da Vinci Code|         Dan Brown|http://images.ama...|        898| 4.642538975501114|\n",
      "|The Five People Y...|       Mitch Albom|http://images.ama...|        430| 4.551162790697674|\n",
      "|The Catcher in th...|     J.D. Salinger|http://images.ama...|        449|4.5456570155902005|\n",
      "|The Lovely Bones:...|      Alice Sebold|http://images.ama...|       1295| 4.468725868725869|\n",
      "|                1984|     George Orwell|http://images.ama...|        284| 4.454225352112676|\n",
      "|Prodigal Summer: ...|Barbara Kingsolver|http://images.ama...|        253| 4.450592885375494|\n",
      "|          Neverwhere|       Neil Gaiman|http://images.ama...|        265| 4.449056603773585|\n",
      "|The Secret Life o...|     Sue Monk Kidd|http://images.ama...|        774| 4.447028423772609|\n",
      "|Stupid White Men ...|     Michael Moore|http://images.ama...|        283|4.3568904593639575|\n",
      "|Tuesdays with Mor...|       MITCH ALBOM|http://images.ama...|        493| 4.354969574036511|\n",
      "+--------------------+------------------+--------------------+-----------+------------------+\n",
      "only showing top 20 rows\n",
      "\n"
     ]
    },
    {
     "name": "stderr",
     "output_type": "stream",
     "text": [
      "                                                                                \r"
     ]
    }
   ],
   "source": [
    "popular_df.show()"
   ]
  },
  {
   "cell_type": "code",
   "execution_count": 71,
   "id": "a418e243-3c0c-4079-9a57-4f0b9fb245f6",
   "metadata": {},
   "outputs": [],
   "source": [
    "##Collaborative Filtering Based Recommender System"
   ]
  },
  {
   "cell_type": "code",
   "execution_count": 72,
   "id": "d67df447-75c1-4830-86ac-05fdbcf60588",
   "metadata": {},
   "outputs": [
    {
     "name": "stderr",
     "output_type": "stream",
     "text": [
      "                                                                                \r"
     ]
    }
   ],
   "source": [
    "# Create a DataFrame with the count of 'Book-Rating' grouped by 'User-ID'\n",
    "count_df = ratings_with_name.groupBy('User-ID').count().withColumnRenamed('count', 'Book-Rating')\n",
    "\n",
    "# Filter the DataFrame to keep only rows where 'Book-Rating' is greater than 200\n",
    "x = count_df.filter(count_df['Book-Rating'] > 200)\n",
    "\n",
    "# Get the 'User-ID' values from the filtered DataFrame\n",
    "y = x.select('User-ID').rdd.flatMap(lambda x: x).collect()"
   ]
  },
  {
   "cell_type": "code",
   "execution_count": 73,
   "id": "3d3fe6ed-b29f-408c-8706-e3571108e9ae",
   "metadata": {},
   "outputs": [],
   "source": [
    "filtered_rating = ratings_with_name.filter(col('User-ID').isin(y))"
   ]
  },
  {
   "cell_type": "code",
   "execution_count": 74,
   "id": "3c184bf1-56fd-4a39-9dce-debc6f3ce27e",
   "metadata": {},
   "outputs": [
    {
     "name": "stderr",
     "output_type": "stream",
     "text": [
      "                                                                                \r"
     ]
    }
   ],
   "source": [
    "from pyspark.sql.functions import col, count\n",
    "\n",
    "# Group the filtered_rating DataFrame by 'Book-Title' and count the 'Book-Rating'\n",
    "book_rating_counts = filtered_rating.groupBy('Book-Title').agg(count('Book-Rating').alias('book_rating_count'))\n",
    "\n",
    "# Filter the book_rating_counts DataFrame to keep only rows where 'book_rating_count' is greater than or equal to 50\n",
    "r = book_rating_counts.filter(col('book_rating_count') >= 50)\n",
    "\n",
    "# Get the 'Book-Title' values from the filtered DataFrame\n",
    "famous_books = r.select('Book-Title').rdd.flatMap(lambda x: x).collect()"
   ]
  },
  {
   "cell_type": "code",
   "execution_count": 75,
   "id": "6ca46cda-e00f-424d-b34f-eb08e198744e",
   "metadata": {},
   "outputs": [],
   "source": [
    "final_ratings = filtered_rating.filter(col('Book-Title').isin(famous_books))"
   ]
  },
  {
   "cell_type": "code",
   "execution_count": 76,
   "id": "be5beb1b-7604-4d32-8342-2638617db709",
   "metadata": {},
   "outputs": [
    {
     "name": "stderr",
     "output_type": "stream",
     "text": [
      "                                                                                \r"
     ]
    }
   ],
   "source": [
    "# Pivot the DataFrame\n",
    "pt = final_ratings.groupby('Book-Title').pivot('User-ID').agg({'Book-Rating': 'first'})\n"
   ]
  },
  {
   "cell_type": "code",
   "execution_count": 77,
   "id": "2a9d4502-4801-406b-b3e3-d7d50f833feb",
   "metadata": {},
   "outputs": [],
   "source": [
    "# Replace null values with 0\n",
    "pt = pt.fillna(0)"
   ]
  },
  {
   "cell_type": "code",
   "execution_count": 78,
   "id": "75471499-d644-4e05-a57e-d9d3e11f58a4",
   "metadata": {},
   "outputs": [
    {
     "name": "stderr",
     "output_type": "stream",
     "text": [
      "24/05/06 00:38:45 WARN DAGScheduler: Broadcasting large task binary with size 1341.5 KiB\n",
      "[Stage 295:>                                                        (0 + 1) / 1]\r"
     ]
    },
    {
     "name": "stdout",
     "output_type": "stream",
     "text": [
      "A Fine Balance\n"
     ]
    },
    {
     "name": "stderr",
     "output_type": "stream",
     "text": [
      "                                                                                \r"
     ]
    }
   ],
   "source": [
    "# Convert PySpark DataFrame to RDD\n",
    "pt_rdd = pt.rdd.zipWithIndex()\n",
    "\n",
    "# Filter the RDD to get the row at any index \n",
    "row= pt_rdd.filter(lambda x: x[1] == 10).map(lambda x: x[0]).collect()\n",
    "\n",
    "# If there's a row at index, extract the Book-Title\n",
    "if row:\n",
    "    book_title_ = row[0]['Book-Title']\n",
    "    print(book_title_)\n",
    "else:\n",
    "    print(\"No row found at index\")\n"
   ]
  },
  {
   "cell_type": "code",
   "execution_count": 79,
   "id": "6029639c-9e91-4e0f-b5d5-28043b158c80",
   "metadata": {},
   "outputs": [],
   "source": [
    "from pyspark.sql import SparkSession\n",
    "from pyspark.ml.feature import VectorAssembler\n",
    "from pyspark.ml.feature import Normalizer\n",
    "from pyspark.sql.functions import udf\n",
    "from pyspark.sql.types import DoubleType\n",
    "from pyspark.ml.linalg import Vectors, VectorUDT\n",
    "from pyspark.sql.functions import col"
   ]
  },
  {
   "cell_type": "code",
   "execution_count": 80,
   "id": "3c01be3a-5a54-413d-98b1-3e69ffa49035",
   "metadata": {},
   "outputs": [],
   "source": [
    "# Rename the columns with integer names to avoid errors\n",
    "new_column_names = [\"col_\" + str(i) for i in range(len(pt.columns))]\n",
    "pt_renamed = pt.toDF(*new_column_names)\n"
   ]
  },
  {
   "cell_type": "code",
   "execution_count": 81,
   "id": "3607d022-b8c2-4731-bb63-271af7ade7a0",
   "metadata": {},
   "outputs": [
    {
     "name": "stderr",
     "output_type": "stream",
     "text": [
      "24/05/06 00:38:51 WARN SparkStringUtils: Truncated the string representation of a plan since it was too large. This behavior can be adjusted by setting 'spark.sql.debug.maxToStringFields'.\n",
      "24/05/06 00:39:04 WARN DAGScheduler: Broadcasting large task binary with size 1906.0 KiB\n",
      "24/05/06 00:39:05 WARN TaskSetManager: Lost task 0.0 in stage 304.0 (TID 705) (10.0.8.186 executor 0): org.apache.spark.SparkException: [FAILED_EXECUTE_UDF] Failed to execute user defined function (`VectorAssembler$Lambda$2231/0x00007a2740aab598`: (struct<100459:double,100644:double,100846:double,100906:double,101209:double,101851:double,101876:double,102275:double,102647:double,102702:double,102967:double,104399:double,104429:double,10447:double,104636:double,104665:double,105374:double,105517:double,105979:double,106225:double,106816:double,107021:double,107301:double,107453:double,107784:double,107951:double,108005:double,10819:double,108285:double,108352:double,109461:double,109574:double,109955:double,110029:double,110483:double,110912:double,110934:double,110973:double,111174:double,111947:double,112001:double,112026:double,112881:double,113270:double,113519:double,113817:double,113904:double,113983:double,114178:double,114368:double,114414:double,114444:double,114868:double,114988:double,115002:double,115003:double,115120:double,115490:double,11601:double,116599:double,11676:double,117251:double,117539:double,119575:double,11993:double,120093:double,120548:double,122429:double,122793:double,122881:double,123790:double,123883:double,123981:double,124078:double,124079:double,124363:double,124487:double,124942:double,125039:double,12538:double,125519:double,125692:double,125774:double,126492:double,126604:double,126736:double,127200:double,127233:double,127359:double,127429:double,127914:double,12824:double,128696:double,128835:double,129008:double,129074:double,129358:double,129465:double,129716:double,12982:double,129851:double,130474:double,130554:double,130571:double,13082:double,131027:double,131046:double,131402:double,131837:double,131855:double,132083:double,13273:double,133571:double,133689:double,133747:double,133868:double,135045:double,135149:double,135265:double,135458:double,13552:double,135831:double,136010:double,136139:double,136205:double,136252:double,136382:double,137589:double,137688:double,138097:double,138441:double,13850:double,138578:double,138844:double,139467:double,139742:double,140000:double,140036:double,140358:double,141493:double,141710:double,142093:double,142524:double,143175:double,143253:double,143415:double,143792:double,14422:double,144531:double,144555:double,14521:double,145449:double,145451:double,145619:double,145641:double,146113:double,146230:double,146348:double,147141:double,147451:double,147847:double,147965:double,148199:double,148258:double,148744:double,149069:double,149907:double,149908:double,149934:double,150124:double,150498:double,150968:double,150979:double,151790:double,151806:double,152186:double,152249:double,153563:double,153662:double,153718:double,15408:double,15418:double,154992:double,155014:double,155147:double,155219:double,155495:double,156150:double,156269:double,156467:double,157273:double,157811:double,158295:double,159033:double,159376:double,159858:double,160032:double,160819:double,16106:double,161752:double,162052:double,162639:double,162738:double,163804:double,163973:double,164027:double,164323:double,164465:double,164533:double,164675:double,164828:double,165232:double,165308:double,165319:double,166123:double,16634:double,166596:double,167349:double,167471:double,167800:double,16795:double,168047:double,168064:double,168144:double,168245:double,16916:double,169233:double,16966:double,169663:double,169699:double,170229:double,170513:double,170518:double,170575:double,170634:double,170742:double,170947:double,171118:double,172030:double,172512:double,172742:double,173291:double,173415:double,173632:double,173684:double,173835:double,174216:double,174304:double,174791:double,175003:double,175886:double,177072:double,177090:double,177374:double,177432:double,177458:double,177690:double,178181:double,178199:double,178667:double,178950:double,17950:double,179733:double,179744:double,179772:double,179978:double,180348:double,180586:double,180651:double,18067:double,180917:double,180957:double,181176:double,181687:double,182085:double,182086:double,182987:double,182993:double,183196:double,183995:double,18401:double,184299:double,185233:double,185384:double,186570:double,187145:double,187256:double,187517:double,188010:double,189334:double,189516:double,189835:double,189973:double,190459:double,190708:double,190807:double,19085:double,190925:double,191187:double,192093:double,193499:double,193560:double,194600:double,194669:double,195694:double,196047:double,196077:double,196160:double,196457:double,196502:double,19664:double,197364:double,197659:double,197775:double,198621:double,198699:double,198711:double,199416:double,199772:double,200226:double,200674:double,201017:double,20115:double,201290:double,201447:double,201526:double,201674:double,201768:double,201783:double,20201:double,203240:double,203799:double,203968:double,204167:double,204522:double,204591:double,204864:double,205473:double,205735:double,205980:double,206074:double,206534:double,206567:double,206979:double,207246:double,207349:double,207499:double,207782:double,208141:double,208147:double,208406:double,208410:double,208568:double,208671:double,208829:double,209373:double,209516:double,209756:double,209875:double,210035:double,21014:double,210485:double,210792:double,210959:double,211426:double,211430:double,211847:double,211919:double,21252:double,212645:double,212898:double,212923:double,212965:double,213150:double,213350:double,214272:double,214786:double,21576:double,216012:double,216444:double,216466:double,21659:double,216683:double,217106:double,217121:double,217375:double,217740:double,218552:double,218608:double,219546:double,220278:double,221445:double,222050:double,222204:double,222296:double,222941:double,223087:double,223154:double,224138:double,224349:double,224430:double,224435:double,224646:double,224764:double,225087:double,225199:double,225232:double,225763:double,225810:double,225986:double,225989:double,22625:double,226545:double,226879:double,226965:double,227447:double,227520:double,2276:double,227705:double,228681:double,228764:double,228998:double,229011:double,229313:double,229329:double,229551:double,229741:double,230249:double,230496:double,230522:double,230708:double,231210:double,231237:double,231827:double,231857:double,232131:double,23288:double,232945:double,233911:double,233917:double,234359:double,234623:double,234721:double,234828:double,235105:double,235282:double,235392:double,235842:double,235935:double,236058:double,236172:double,236283:double,236340:double,236757:double,236948:double,236959:double,23768:double,238120:double,238526:double,238541:double,238545:double,238557:double,238699:double,23872:double,238781:double,238961:double,23902:double,239584:double,239594:double,240144:double,240567:double,240568:double,241198:double,241548:double,241666:double,24194:double,241980:double,242006:double,242083:double,242106:double,242299:double,242409:double,242646:double,242824:double,243077:double,244349:double,244688:double,244736:double,245371:double,245410:double,245645:double,245827:double,245963:double,246156:double,246311:double,246513:double,246655:double,246671:double,247429:double,247447:double,247752:double,248718:double,249111:double,24921:double,249628:double,249862:double,249894:double,250184:double,250405:double,250764:double,250962:double,251394:double,251422:double,251613:double,251843:double,251844:double,252071:double,252222:double,252695:double,252820:double,252848:double,253556:double,253821:double,254:double,25409:double,254206:double,254465:double,254899:double,254971:double,255092:double,255218:double,255489:double,25601:double,256167:double,256402:double,256407:double,257028:double,257204:double,258152:double,258185:double,258534:double,258938:double,259260:double,259380:double,259629:double,25981:double,260897:double,261105:double,261829:double,262399:double,262998:double,263163:double,263460:double,263877:double,264031:double,264082:double,264317:double,264321:double,264637:double,265115:double,26516:double,265313:double,26535:double,26544:double,265595:double,26583:double,265889:double,26593:double,266056:double,266226:double,266753:double,266865:double,267635:double,268030:double,268032:double,268110:double,268330:double,268932:double,269566:double,269719:double,269890:double,270713:double,270820:double,271195:double,271284:double,271448:double,271705:double,273979:double,274004:double,274061:double,274301:double,274308:double,275970:double,27617:double,2766:double,277427:double,277639:double,278418:double,28204:double,28360:double,28523:double,28591:double,29259:double,2977:double,29855:double,30276:double,30487:double,30511:double,30533:double,30711:double,30735:double,30972:double,31315:double,31391:double,31556:double,31826:double,31846:double,32195:double,32440:double,32721:double,32773:double,3363:double,33974:double,35050:double,35836:double,35857:double,35859:double,36606:double,36609:double,36836:double,36907:double,37567:double,37712:double,37950:double,38023:double,38273:double,38781:double,39281:double,39467:double,39616:double,39646:double,39773:double,4017:double,40889:double,40943:double,41084:double,41841:double,42914:double,43246:double,43806:double,43842:double,4385:double,44595:double,44728:double,46398:double,47316:double,48494:double,49109:double,49460:double,49889:double,50225:double,51094:double,51350:double,51386:double,51450:double,51883:double,52199:double,52584:double,52614:double,52853:double,52917:double,53174:double,53628:double,53729:double,54218:double,55187:double,55490:double,55492:double,55548:double,55734:double,55892:double,56271:double,56399:double,56447:double,56856:double,56959:double,59172:double,59971:double,60244:double,60277:double,60337:double,60707:double,61619:double,62272:double,6251:double,62891:double,62895:double,6323:double,63394:double,63714:double,63938:double,64436:double,65258:double,6543:double,6563:double,6575:double,66680:double,67840:double,68555:double,69042:double,69078:double,69232:double,69355:double,69405:double,69697:double,69808:double,69971:double,70052:double,70415:double,70594:double,7158:double,71712:double,72352:double,7286:double,72992:double,73394:double,7346:double,73651:double,75591:double,75860:double,76151:double,76223:double,76352:double,76499:double,76626:double,76818:double,76942:double,77809:double,77940:double,78553:double,78783:double,78834:double,78973:double,7915:double,79186:double,79441:double,80538:double,8067:double,80683:double,81045:double,81492:double,81560:double,81977:double,82407:double,8245:double,82831:double,82893:double,82926:double,83637:double,84024:double,85426:double,85526:double,85656:double,85701:double,85757:double,85993:double,86202:double,86243:double,86641:double,8681:double,87141:double,87143:double,87555:double,87746:double,87974:double,88283:double,88677:double,88693:double,88733:double,88937:double,8936:double,89602:double,91203:double,91342:double,91832:double,91931:double,92547:double,92652:double,92810:double,92979:double,93047:double,93085:double,93363:double,93629:double,94242:double,94347:double,94853:double,94923:double,95193:double,95316:double,95359:double,95903:double,95932:double,95991:double,96054:double,96448:double,97874:double,98391:double,98741:double,98758:double>) => struct<type:tinyint,size:int,indices:array<int>,values:array<double>>).\n",
      "\tat org.apache.spark.sql.errors.QueryExecutionErrors$.failedExecuteUserDefinedFunctionError(QueryExecutionErrors.scala:198)\n",
      "\tat org.apache.spark.sql.errors.QueryExecutionErrors.failedExecuteUserDefinedFunctionError(QueryExecutionErrors.scala)\n",
      "\tat org.apache.spark.sql.catalyst.expressions.GeneratedClass$SpecificUnsafeProjection.ScalaUDF_0$(Unknown Source)\n",
      "\tat org.apache.spark.sql.catalyst.expressions.GeneratedClass$SpecificUnsafeProjection.apply(Unknown Source)\n",
      "\tat org.apache.spark.sql.execution.aggregate.AggregationIterator.$anonfun$generateResultProjection$5(AggregationIterator.scala:260)\n",
      "\tat org.apache.spark.sql.execution.aggregate.SortBasedAggregationIterator.next(SortBasedAggregationIterator.scala:151)\n",
      "\tat org.apache.spark.sql.execution.aggregate.SortBasedAggregationIterator.next(SortBasedAggregationIterator.scala:30)\n",
      "\tat scala.collection.Iterator$$anon$10.next(Iterator.scala:461)\n",
      "\tat org.apache.spark.ContextAwareIterator.next(ContextAwareIterator.scala:41)\n",
      "\tat scala.collection.Iterator$$anon$10.next(Iterator.scala:461)\n",
      "\tat scala.collection.Iterator$$anon$10.next(Iterator.scala:461)\n",
      "\tat scala.collection.Iterator$GroupedIterator.takeDestructively(Iterator.scala:1161)\n",
      "\tat scala.collection.Iterator$GroupedIterator.go(Iterator.scala:1176)\n",
      "\tat scala.collection.Iterator$GroupedIterator.fill(Iterator.scala:1213)\n",
      "\tat scala.collection.Iterator$GroupedIterator.hasNext(Iterator.scala:1217)\n",
      "\tat scala.collection.Iterator$$anon$10.hasNext(Iterator.scala:460)\n",
      "\tat scala.collection.Iterator.foreach(Iterator.scala:943)\n",
      "\tat scala.collection.Iterator.foreach$(Iterator.scala:943)\n",
      "\tat scala.collection.AbstractIterator.foreach(Iterator.scala:1431)\n",
      "\tat org.apache.spark.api.python.PythonRDD$.writeIteratorToStream(PythonRDD.scala:322)\n",
      "\tat org.apache.spark.sql.execution.python.BasePythonUDFRunner$PythonUDFWriterThread.writeIteratorToStream(PythonUDFRunner.scala:58)\n",
      "\tat org.apache.spark.api.python.BasePythonRunner$WriterThread.$anonfun$run$1(PythonRunner.scala:451)\n",
      "\tat org.apache.spark.util.Utils$.logUncaughtExceptions(Utils.scala:1928)\n",
      "\tat org.apache.spark.api.python.BasePythonRunner$WriterThread.run(PythonRunner.scala:282)\n",
      "Caused by: org.apache.spark.SparkException: Encountered null while assembling a row with handleInvalid = \"error\". Consider\n",
      "removing nulls from dataset or using handleInvalid = \"keep\" or \"skip\".\n",
      "\tat org.apache.spark.ml.feature.VectorAssembler$.$anonfun$assemble$1(VectorAssembler.scala:291)\n",
      "\tat org.apache.spark.ml.feature.VectorAssembler$.$anonfun$assemble$1$adapted(VectorAssembler.scala:260)\n",
      "\tat scala.collection.IndexedSeqOptimized.foreach(IndexedSeqOptimized.scala:36)\n",
      "\tat scala.collection.IndexedSeqOptimized.foreach$(IndexedSeqOptimized.scala:33)\n",
      "\tat scala.collection.mutable.WrappedArray.foreach(WrappedArray.scala:38)\n",
      "\tat org.apache.spark.ml.feature.VectorAssembler$.assemble(VectorAssembler.scala:260)\n",
      "\tat org.apache.spark.ml.feature.VectorAssembler.$anonfun$transform$6(VectorAssembler.scala:143)\n",
      "\t... 22 more\n",
      "\n",
      "24/05/06 00:39:07 ERROR TaskSetManager: Task 0 in stage 304.0 failed 4 times; aborting job\n"
     ]
    },
    {
     "ename": "Py4JJavaError",
     "evalue": "An error occurred while calling o4913.count.\n: org.apache.spark.SparkException: Job aborted due to stage failure: Task 0 in stage 304.0 failed 4 times, most recent failure: Lost task 0.3 in stage 304.0 (TID 708) (10.0.8.186 executor 0): org.apache.spark.SparkException: [FAILED_EXECUTE_UDF] Failed to execute user defined function (`VectorAssembler$$Lambda$2231/0x00007a2740aab598`: (struct<100459:double,100644:double,100846:double,100906:double,101209:double,101851:double,101876:double,102275:double,102647:double,102702:double,102967:double,104399:double,104429:double,10447:double,104636:double,104665:double,105374:double,105517:double,105979:double,106225:double,106816:double,107021:double,107301:double,107453:double,107784:double,107951:double,108005:double,10819:double,108285:double,108352:double,109461:double,109574:double,109955:double,110029:double,110483:double,110912:double,110934:double,110973:double,111174:double,111947:double,112001:double,112026:double,112881:double,113270:double,113519:double,113817:double,113904:double,113983:double,114178:double,114368:double,114414:double,114444:double,114868:double,114988:double,115002:double,115003:double,115120:double,115490:double,11601:double,116599:double,11676:double,117251:double,117539:double,119575:double,11993:double,120093:double,120548:double,122429:double,122793:double,122881:double,123790:double,123883:double,123981:double,124078:double,124079:double,124363:double,124487:double,124942:double,125039:double,12538:double,125519:double,125692:double,125774:double,126492:double,126604:double,126736:double,127200:double,127233:double,127359:double,127429:double,127914:double,12824:double,128696:double,128835:double,129008:double,129074:double,129358:double,129465:double,129716:double,12982:double,129851:double,130474:double,130554:double,130571:double,13082:double,131027:double,131046:double,131402:double,131837:double,131855:double,132083:double,13273:double,133571:double,133689:double,133747:double,133868:double,135045:double,135149:double,135265:double,135458:double,13552:double,135831:double,136010:double,136139:double,136205:double,136252:double,136382:double,137589:double,137688:double,138097:double,138441:double,13850:double,138578:double,138844:double,139467:double,139742:double,140000:double,140036:double,140358:double,141493:double,141710:double,142093:double,142524:double,143175:double,143253:double,143415:double,143792:double,14422:double,144531:double,144555:double,14521:double,145449:double,145451:double,145619:double,145641:double,146113:double,146230:double,146348:double,147141:double,147451:double,147847:double,147965:double,148199:double,148258:double,148744:double,149069:double,149907:double,149908:double,149934:double,150124:double,150498:double,150968:double,150979:double,151790:double,151806:double,152186:double,152249:double,153563:double,153662:double,153718:double,15408:double,15418:double,154992:double,155014:double,155147:double,155219:double,155495:double,156150:double,156269:double,156467:double,157273:double,157811:double,158295:double,159033:double,159376:double,159858:double,160032:double,160819:double,16106:double,161752:double,162052:double,162639:double,162738:double,163804:double,163973:double,164027:double,164323:double,164465:double,164533:double,164675:double,164828:double,165232:double,165308:double,165319:double,166123:double,16634:double,166596:double,167349:double,167471:double,167800:double,16795:double,168047:double,168064:double,168144:double,168245:double,16916:double,169233:double,16966:double,169663:double,169699:double,170229:double,170513:double,170518:double,170575:double,170634:double,170742:double,170947:double,171118:double,172030:double,172512:double,172742:double,173291:double,173415:double,173632:double,173684:double,173835:double,174216:double,174304:double,174791:double,175003:double,175886:double,177072:double,177090:double,177374:double,177432:double,177458:double,177690:double,178181:double,178199:double,178667:double,178950:double,17950:double,179733:double,179744:double,179772:double,179978:double,180348:double,180586:double,180651:double,18067:double,180917:double,180957:double,181176:double,181687:double,182085:double,182086:double,182987:double,182993:double,183196:double,183995:double,18401:double,184299:double,185233:double,185384:double,186570:double,187145:double,187256:double,187517:double,188010:double,189334:double,189516:double,189835:double,189973:double,190459:double,190708:double,190807:double,19085:double,190925:double,191187:double,192093:double,193499:double,193560:double,194600:double,194669:double,195694:double,196047:double,196077:double,196160:double,196457:double,196502:double,19664:double,197364:double,197659:double,197775:double,198621:double,198699:double,198711:double,199416:double,199772:double,200226:double,200674:double,201017:double,20115:double,201290:double,201447:double,201526:double,201674:double,201768:double,201783:double,20201:double,203240:double,203799:double,203968:double,204167:double,204522:double,204591:double,204864:double,205473:double,205735:double,205980:double,206074:double,206534:double,206567:double,206979:double,207246:double,207349:double,207499:double,207782:double,208141:double,208147:double,208406:double,208410:double,208568:double,208671:double,208829:double,209373:double,209516:double,209756:double,209875:double,210035:double,21014:double,210485:double,210792:double,210959:double,211426:double,211430:double,211847:double,211919:double,21252:double,212645:double,212898:double,212923:double,212965:double,213150:double,213350:double,214272:double,214786:double,21576:double,216012:double,216444:double,216466:double,21659:double,216683:double,217106:double,217121:double,217375:double,217740:double,218552:double,218608:double,219546:double,220278:double,221445:double,222050:double,222204:double,222296:double,222941:double,223087:double,223154:double,224138:double,224349:double,224430:double,224435:double,224646:double,224764:double,225087:double,225199:double,225232:double,225763:double,225810:double,225986:double,225989:double,22625:double,226545:double,226879:double,226965:double,227447:double,227520:double,2276:double,227705:double,228681:double,228764:double,228998:double,229011:double,229313:double,229329:double,229551:double,229741:double,230249:double,230496:double,230522:double,230708:double,231210:double,231237:double,231827:double,231857:double,232131:double,23288:double,232945:double,233911:double,233917:double,234359:double,234623:double,234721:double,234828:double,235105:double,235282:double,235392:double,235842:double,235935:double,236058:double,236172:double,236283:double,236340:double,236757:double,236948:double,236959:double,23768:double,238120:double,238526:double,238541:double,238545:double,238557:double,238699:double,23872:double,238781:double,238961:double,23902:double,239584:double,239594:double,240144:double,240567:double,240568:double,241198:double,241548:double,241666:double,24194:double,241980:double,242006:double,242083:double,242106:double,242299:double,242409:double,242646:double,242824:double,243077:double,244349:double,244688:double,244736:double,245371:double,245410:double,245645:double,245827:double,245963:double,246156:double,246311:double,246513:double,246655:double,246671:double,247429:double,247447:double,247752:double,248718:double,249111:double,24921:double,249628:double,249862:double,249894:double,250184:double,250405:double,250764:double,250962:double,251394:double,251422:double,251613:double,251843:double,251844:double,252071:double,252222:double,252695:double,252820:double,252848:double,253556:double,253821:double,254:double,25409:double,254206:double,254465:double,254899:double,254971:double,255092:double,255218:double,255489:double,25601:double,256167:double,256402:double,256407:double,257028:double,257204:double,258152:double,258185:double,258534:double,258938:double,259260:double,259380:double,259629:double,25981:double,260897:double,261105:double,261829:double,262399:double,262998:double,263163:double,263460:double,263877:double,264031:double,264082:double,264317:double,264321:double,264637:double,265115:double,26516:double,265313:double,26535:double,26544:double,265595:double,26583:double,265889:double,26593:double,266056:double,266226:double,266753:double,266865:double,267635:double,268030:double,268032:double,268110:double,268330:double,268932:double,269566:double,269719:double,269890:double,270713:double,270820:double,271195:double,271284:double,271448:double,271705:double,273979:double,274004:double,274061:double,274301:double,274308:double,275970:double,27617:double,2766:double,277427:double,277639:double,278418:double,28204:double,28360:double,28523:double,28591:double,29259:double,2977:double,29855:double,30276:double,30487:double,30511:double,30533:double,30711:double,30735:double,30972:double,31315:double,31391:double,31556:double,31826:double,31846:double,32195:double,32440:double,32721:double,32773:double,3363:double,33974:double,35050:double,35836:double,35857:double,35859:double,36606:double,36609:double,36836:double,36907:double,37567:double,37712:double,37950:double,38023:double,38273:double,38781:double,39281:double,39467:double,39616:double,39646:double,39773:double,4017:double,40889:double,40943:double,41084:double,41841:double,42914:double,43246:double,43806:double,43842:double,4385:double,44595:double,44728:double,46398:double,47316:double,48494:double,49109:double,49460:double,49889:double,50225:double,51094:double,51350:double,51386:double,51450:double,51883:double,52199:double,52584:double,52614:double,52853:double,52917:double,53174:double,53628:double,53729:double,54218:double,55187:double,55490:double,55492:double,55548:double,55734:double,55892:double,56271:double,56399:double,56447:double,56856:double,56959:double,59172:double,59971:double,60244:double,60277:double,60337:double,60707:double,61619:double,62272:double,6251:double,62891:double,62895:double,6323:double,63394:double,63714:double,63938:double,64436:double,65258:double,6543:double,6563:double,6575:double,66680:double,67840:double,68555:double,69042:double,69078:double,69232:double,69355:double,69405:double,69697:double,69808:double,69971:double,70052:double,70415:double,70594:double,7158:double,71712:double,72352:double,7286:double,72992:double,73394:double,7346:double,73651:double,75591:double,75860:double,76151:double,76223:double,76352:double,76499:double,76626:double,76818:double,76942:double,77809:double,77940:double,78553:double,78783:double,78834:double,78973:double,7915:double,79186:double,79441:double,80538:double,8067:double,80683:double,81045:double,81492:double,81560:double,81977:double,82407:double,8245:double,82831:double,82893:double,82926:double,83637:double,84024:double,85426:double,85526:double,85656:double,85701:double,85757:double,85993:double,86202:double,86243:double,86641:double,8681:double,87141:double,87143:double,87555:double,87746:double,87974:double,88283:double,88677:double,88693:double,88733:double,88937:double,8936:double,89602:double,91203:double,91342:double,91832:double,91931:double,92547:double,92652:double,92810:double,92979:double,93047:double,93085:double,93363:double,93629:double,94242:double,94347:double,94853:double,94923:double,95193:double,95316:double,95359:double,95903:double,95932:double,95991:double,96054:double,96448:double,97874:double,98391:double,98741:double,98758:double>) => struct<type:tinyint,size:int,indices:array<int>,values:array<double>>).\n\tat org.apache.spark.sql.errors.QueryExecutionErrors$.failedExecuteUserDefinedFunctionError(QueryExecutionErrors.scala:198)\n\tat org.apache.spark.sql.errors.QueryExecutionErrors.failedExecuteUserDefinedFunctionError(QueryExecutionErrors.scala)\n\tat org.apache.spark.sql.catalyst.expressions.GeneratedClass$SpecificUnsafeProjection.ScalaUDF_0$(Unknown Source)\n\tat org.apache.spark.sql.catalyst.expressions.GeneratedClass$SpecificUnsafeProjection.apply(Unknown Source)\n\tat org.apache.spark.sql.execution.aggregate.AggregationIterator.$anonfun$generateResultProjection$5(AggregationIterator.scala:260)\n\tat org.apache.spark.sql.execution.aggregate.SortBasedAggregationIterator.next(SortBasedAggregationIterator.scala:151)\n\tat org.apache.spark.sql.execution.aggregate.SortBasedAggregationIterator.next(SortBasedAggregationIterator.scala:30)\n\tat scala.collection.Iterator$$anon$10.next(Iterator.scala:461)\n\tat org.apache.spark.ContextAwareIterator.next(ContextAwareIterator.scala:41)\n\tat scala.collection.Iterator$$anon$10.next(Iterator.scala:461)\n\tat scala.collection.Iterator$$anon$10.next(Iterator.scala:461)\n\tat scala.collection.Iterator$GroupedIterator.takeDestructively(Iterator.scala:1161)\n\tat scala.collection.Iterator$GroupedIterator.go(Iterator.scala:1176)\n\tat scala.collection.Iterator$GroupedIterator.fill(Iterator.scala:1213)\n\tat scala.collection.Iterator$GroupedIterator.hasNext(Iterator.scala:1217)\n\tat scala.collection.Iterator$$anon$10.hasNext(Iterator.scala:460)\n\tat scala.collection.Iterator.foreach(Iterator.scala:943)\n\tat scala.collection.Iterator.foreach$(Iterator.scala:943)\n\tat scala.collection.AbstractIterator.foreach(Iterator.scala:1431)\n\tat org.apache.spark.api.python.PythonRDD$.writeIteratorToStream(PythonRDD.scala:322)\n\tat org.apache.spark.sql.execution.python.BasePythonUDFRunner$PythonUDFWriterThread.writeIteratorToStream(PythonUDFRunner.scala:58)\n\tat org.apache.spark.api.python.BasePythonRunner$WriterThread.$anonfun$run$1(PythonRunner.scala:451)\n\tat org.apache.spark.util.Utils$.logUncaughtExceptions(Utils.scala:1928)\n\tat org.apache.spark.api.python.BasePythonRunner$WriterThread.run(PythonRunner.scala:282)\nCaused by: org.apache.spark.SparkException: Encountered null while assembling a row with handleInvalid = \"error\". Consider\nremoving nulls from dataset or using handleInvalid = \"keep\" or \"skip\".\n\tat org.apache.spark.ml.feature.VectorAssembler$.$anonfun$assemble$1(VectorAssembler.scala:291)\n\tat org.apache.spark.ml.feature.VectorAssembler$.$anonfun$assemble$1$adapted(VectorAssembler.scala:260)\n\tat scala.collection.IndexedSeqOptimized.foreach(IndexedSeqOptimized.scala:36)\n\tat scala.collection.IndexedSeqOptimized.foreach$(IndexedSeqOptimized.scala:33)\n\tat scala.collection.mutable.WrappedArray.foreach(WrappedArray.scala:38)\n\tat org.apache.spark.ml.feature.VectorAssembler$.assemble(VectorAssembler.scala:260)\n\tat org.apache.spark.ml.feature.VectorAssembler.$anonfun$transform$6(VectorAssembler.scala:143)\n\t... 22 more\n\nDriver stacktrace:\n\tat org.apache.spark.scheduler.DAGScheduler.failJobAndIndependentStages(DAGScheduler.scala:2856)\n\tat org.apache.spark.scheduler.DAGScheduler.$anonfun$abortStage$2(DAGScheduler.scala:2792)\n\tat org.apache.spark.scheduler.DAGScheduler.$anonfun$abortStage$2$adapted(DAGScheduler.scala:2791)\n\tat scala.collection.mutable.ResizableArray.foreach(ResizableArray.scala:62)\n\tat scala.collection.mutable.ResizableArray.foreach$(ResizableArray.scala:55)\n\tat scala.collection.mutable.ArrayBuffer.foreach(ArrayBuffer.scala:49)\n\tat org.apache.spark.scheduler.DAGScheduler.abortStage(DAGScheduler.scala:2791)\n\tat org.apache.spark.scheduler.DAGScheduler.$anonfun$handleTaskSetFailed$1(DAGScheduler.scala:1247)\n\tat org.apache.spark.scheduler.DAGScheduler.$anonfun$handleTaskSetFailed$1$adapted(DAGScheduler.scala:1247)\n\tat scala.Option.foreach(Option.scala:407)\n\tat org.apache.spark.scheduler.DAGScheduler.handleTaskSetFailed(DAGScheduler.scala:1247)\n\tat org.apache.spark.scheduler.DAGSchedulerEventProcessLoop.doOnReceive(DAGScheduler.scala:3060)\n\tat org.apache.spark.scheduler.DAGSchedulerEventProcessLoop.onReceive(DAGScheduler.scala:2994)\n\tat org.apache.spark.scheduler.DAGSchedulerEventProcessLoop.onReceive(DAGScheduler.scala:2983)\n\tat org.apache.spark.util.EventLoop$$anon$1.run(EventLoop.scala:49)\nCaused by: org.apache.spark.SparkException: [FAILED_EXECUTE_UDF] Failed to execute user defined function (`VectorAssembler$$Lambda$2231/0x00007a2740aab598`: (struct<100459:double,100644:double,100846:double,100906:double,101209:double,101851:double,101876:double,102275:double,102647:double,102702:double,102967:double,104399:double,104429:double,10447:double,104636:double,104665:double,105374:double,105517:double,105979:double,106225:double,106816:double,107021:double,107301:double,107453:double,107784:double,107951:double,108005:double,10819:double,108285:double,108352:double,109461:double,109574:double,109955:double,110029:double,110483:double,110912:double,110934:double,110973:double,111174:double,111947:double,112001:double,112026:double,112881:double,113270:double,113519:double,113817:double,113904:double,113983:double,114178:double,114368:double,114414:double,114444:double,114868:double,114988:double,115002:double,115003:double,115120:double,115490:double,11601:double,116599:double,11676:double,117251:double,117539:double,119575:double,11993:double,120093:double,120548:double,122429:double,122793:double,122881:double,123790:double,123883:double,123981:double,124078:double,124079:double,124363:double,124487:double,124942:double,125039:double,12538:double,125519:double,125692:double,125774:double,126492:double,126604:double,126736:double,127200:double,127233:double,127359:double,127429:double,127914:double,12824:double,128696:double,128835:double,129008:double,129074:double,129358:double,129465:double,129716:double,12982:double,129851:double,130474:double,130554:double,130571:double,13082:double,131027:double,131046:double,131402:double,131837:double,131855:double,132083:double,13273:double,133571:double,133689:double,133747:double,133868:double,135045:double,135149:double,135265:double,135458:double,13552:double,135831:double,136010:double,136139:double,136205:double,136252:double,136382:double,137589:double,137688:double,138097:double,138441:double,13850:double,138578:double,138844:double,139467:double,139742:double,140000:double,140036:double,140358:double,141493:double,141710:double,142093:double,142524:double,143175:double,143253:double,143415:double,143792:double,14422:double,144531:double,144555:double,14521:double,145449:double,145451:double,145619:double,145641:double,146113:double,146230:double,146348:double,147141:double,147451:double,147847:double,147965:double,148199:double,148258:double,148744:double,149069:double,149907:double,149908:double,149934:double,150124:double,150498:double,150968:double,150979:double,151790:double,151806:double,152186:double,152249:double,153563:double,153662:double,153718:double,15408:double,15418:double,154992:double,155014:double,155147:double,155219:double,155495:double,156150:double,156269:double,156467:double,157273:double,157811:double,158295:double,159033:double,159376:double,159858:double,160032:double,160819:double,16106:double,161752:double,162052:double,162639:double,162738:double,163804:double,163973:double,164027:double,164323:double,164465:double,164533:double,164675:double,164828:double,165232:double,165308:double,165319:double,166123:double,16634:double,166596:double,167349:double,167471:double,167800:double,16795:double,168047:double,168064:double,168144:double,168245:double,16916:double,169233:double,16966:double,169663:double,169699:double,170229:double,170513:double,170518:double,170575:double,170634:double,170742:double,170947:double,171118:double,172030:double,172512:double,172742:double,173291:double,173415:double,173632:double,173684:double,173835:double,174216:double,174304:double,174791:double,175003:double,175886:double,177072:double,177090:double,177374:double,177432:double,177458:double,177690:double,178181:double,178199:double,178667:double,178950:double,17950:double,179733:double,179744:double,179772:double,179978:double,180348:double,180586:double,180651:double,18067:double,180917:double,180957:double,181176:double,181687:double,182085:double,182086:double,182987:double,182993:double,183196:double,183995:double,18401:double,184299:double,185233:double,185384:double,186570:double,187145:double,187256:double,187517:double,188010:double,189334:double,189516:double,189835:double,189973:double,190459:double,190708:double,190807:double,19085:double,190925:double,191187:double,192093:double,193499:double,193560:double,194600:double,194669:double,195694:double,196047:double,196077:double,196160:double,196457:double,196502:double,19664:double,197364:double,197659:double,197775:double,198621:double,198699:double,198711:double,199416:double,199772:double,200226:double,200674:double,201017:double,20115:double,201290:double,201447:double,201526:double,201674:double,201768:double,201783:double,20201:double,203240:double,203799:double,203968:double,204167:double,204522:double,204591:double,204864:double,205473:double,205735:double,205980:double,206074:double,206534:double,206567:double,206979:double,207246:double,207349:double,207499:double,207782:double,208141:double,208147:double,208406:double,208410:double,208568:double,208671:double,208829:double,209373:double,209516:double,209756:double,209875:double,210035:double,21014:double,210485:double,210792:double,210959:double,211426:double,211430:double,211847:double,211919:double,21252:double,212645:double,212898:double,212923:double,212965:double,213150:double,213350:double,214272:double,214786:double,21576:double,216012:double,216444:double,216466:double,21659:double,216683:double,217106:double,217121:double,217375:double,217740:double,218552:double,218608:double,219546:double,220278:double,221445:double,222050:double,222204:double,222296:double,222941:double,223087:double,223154:double,224138:double,224349:double,224430:double,224435:double,224646:double,224764:double,225087:double,225199:double,225232:double,225763:double,225810:double,225986:double,225989:double,22625:double,226545:double,226879:double,226965:double,227447:double,227520:double,2276:double,227705:double,228681:double,228764:double,228998:double,229011:double,229313:double,229329:double,229551:double,229741:double,230249:double,230496:double,230522:double,230708:double,231210:double,231237:double,231827:double,231857:double,232131:double,23288:double,232945:double,233911:double,233917:double,234359:double,234623:double,234721:double,234828:double,235105:double,235282:double,235392:double,235842:double,235935:double,236058:double,236172:double,236283:double,236340:double,236757:double,236948:double,236959:double,23768:double,238120:double,238526:double,238541:double,238545:double,238557:double,238699:double,23872:double,238781:double,238961:double,23902:double,239584:double,239594:double,240144:double,240567:double,240568:double,241198:double,241548:double,241666:double,24194:double,241980:double,242006:double,242083:double,242106:double,242299:double,242409:double,242646:double,242824:double,243077:double,244349:double,244688:double,244736:double,245371:double,245410:double,245645:double,245827:double,245963:double,246156:double,246311:double,246513:double,246655:double,246671:double,247429:double,247447:double,247752:double,248718:double,249111:double,24921:double,249628:double,249862:double,249894:double,250184:double,250405:double,250764:double,250962:double,251394:double,251422:double,251613:double,251843:double,251844:double,252071:double,252222:double,252695:double,252820:double,252848:double,253556:double,253821:double,254:double,25409:double,254206:double,254465:double,254899:double,254971:double,255092:double,255218:double,255489:double,25601:double,256167:double,256402:double,256407:double,257028:double,257204:double,258152:double,258185:double,258534:double,258938:double,259260:double,259380:double,259629:double,25981:double,260897:double,261105:double,261829:double,262399:double,262998:double,263163:double,263460:double,263877:double,264031:double,264082:double,264317:double,264321:double,264637:double,265115:double,26516:double,265313:double,26535:double,26544:double,265595:double,26583:double,265889:double,26593:double,266056:double,266226:double,266753:double,266865:double,267635:double,268030:double,268032:double,268110:double,268330:double,268932:double,269566:double,269719:double,269890:double,270713:double,270820:double,271195:double,271284:double,271448:double,271705:double,273979:double,274004:double,274061:double,274301:double,274308:double,275970:double,27617:double,2766:double,277427:double,277639:double,278418:double,28204:double,28360:double,28523:double,28591:double,29259:double,2977:double,29855:double,30276:double,30487:double,30511:double,30533:double,30711:double,30735:double,30972:double,31315:double,31391:double,31556:double,31826:double,31846:double,32195:double,32440:double,32721:double,32773:double,3363:double,33974:double,35050:double,35836:double,35857:double,35859:double,36606:double,36609:double,36836:double,36907:double,37567:double,37712:double,37950:double,38023:double,38273:double,38781:double,39281:double,39467:double,39616:double,39646:double,39773:double,4017:double,40889:double,40943:double,41084:double,41841:double,42914:double,43246:double,43806:double,43842:double,4385:double,44595:double,44728:double,46398:double,47316:double,48494:double,49109:double,49460:double,49889:double,50225:double,51094:double,51350:double,51386:double,51450:double,51883:double,52199:double,52584:double,52614:double,52853:double,52917:double,53174:double,53628:double,53729:double,54218:double,55187:double,55490:double,55492:double,55548:double,55734:double,55892:double,56271:double,56399:double,56447:double,56856:double,56959:double,59172:double,59971:double,60244:double,60277:double,60337:double,60707:double,61619:double,62272:double,6251:double,62891:double,62895:double,6323:double,63394:double,63714:double,63938:double,64436:double,65258:double,6543:double,6563:double,6575:double,66680:double,67840:double,68555:double,69042:double,69078:double,69232:double,69355:double,69405:double,69697:double,69808:double,69971:double,70052:double,70415:double,70594:double,7158:double,71712:double,72352:double,7286:double,72992:double,73394:double,7346:double,73651:double,75591:double,75860:double,76151:double,76223:double,76352:double,76499:double,76626:double,76818:double,76942:double,77809:double,77940:double,78553:double,78783:double,78834:double,78973:double,7915:double,79186:double,79441:double,80538:double,8067:double,80683:double,81045:double,81492:double,81560:double,81977:double,82407:double,8245:double,82831:double,82893:double,82926:double,83637:double,84024:double,85426:double,85526:double,85656:double,85701:double,85757:double,85993:double,86202:double,86243:double,86641:double,8681:double,87141:double,87143:double,87555:double,87746:double,87974:double,88283:double,88677:double,88693:double,88733:double,88937:double,8936:double,89602:double,91203:double,91342:double,91832:double,91931:double,92547:double,92652:double,92810:double,92979:double,93047:double,93085:double,93363:double,93629:double,94242:double,94347:double,94853:double,94923:double,95193:double,95316:double,95359:double,95903:double,95932:double,95991:double,96054:double,96448:double,97874:double,98391:double,98741:double,98758:double>) => struct<type:tinyint,size:int,indices:array<int>,values:array<double>>).\n\tat org.apache.spark.sql.errors.QueryExecutionErrors$.failedExecuteUserDefinedFunctionError(QueryExecutionErrors.scala:198)\n\tat org.apache.spark.sql.errors.QueryExecutionErrors.failedExecuteUserDefinedFunctionError(QueryExecutionErrors.scala)\n\tat org.apache.spark.sql.catalyst.expressions.GeneratedClass$SpecificUnsafeProjection.ScalaUDF_0$(Unknown Source)\n\tat org.apache.spark.sql.catalyst.expressions.GeneratedClass$SpecificUnsafeProjection.apply(Unknown Source)\n\tat org.apache.spark.sql.execution.aggregate.AggregationIterator.$anonfun$generateResultProjection$5(AggregationIterator.scala:260)\n\tat org.apache.spark.sql.execution.aggregate.SortBasedAggregationIterator.next(SortBasedAggregationIterator.scala:151)\n\tat org.apache.spark.sql.execution.aggregate.SortBasedAggregationIterator.next(SortBasedAggregationIterator.scala:30)\n\tat scala.collection.Iterator$$anon$10.next(Iterator.scala:461)\n\tat org.apache.spark.ContextAwareIterator.next(ContextAwareIterator.scala:41)\n\tat scala.collection.Iterator$$anon$10.next(Iterator.scala:461)\n\tat scala.collection.Iterator$$anon$10.next(Iterator.scala:461)\n\tat scala.collection.Iterator$GroupedIterator.takeDestructively(Iterator.scala:1161)\n\tat scala.collection.Iterator$GroupedIterator.go(Iterator.scala:1176)\n\tat scala.collection.Iterator$GroupedIterator.fill(Iterator.scala:1213)\n\tat scala.collection.Iterator$GroupedIterator.hasNext(Iterator.scala:1217)\n\tat scala.collection.Iterator$$anon$10.hasNext(Iterator.scala:460)\n\tat scala.collection.Iterator.foreach(Iterator.scala:943)\n\tat scala.collection.Iterator.foreach$(Iterator.scala:943)\n\tat scala.collection.AbstractIterator.foreach(Iterator.scala:1431)\n\tat org.apache.spark.api.python.PythonRDD$.writeIteratorToStream(PythonRDD.scala:322)\n\tat org.apache.spark.sql.execution.python.BasePythonUDFRunner$PythonUDFWriterThread.writeIteratorToStream(PythonUDFRunner.scala:58)\n\tat org.apache.spark.api.python.BasePythonRunner$WriterThread.$anonfun$run$1(PythonRunner.scala:451)\n\tat org.apache.spark.util.Utils$.logUncaughtExceptions(Utils.scala:1928)\n\tat org.apache.spark.api.python.BasePythonRunner$WriterThread.run(PythonRunner.scala:282)\nCaused by: org.apache.spark.SparkException: Encountered null while assembling a row with handleInvalid = \"error\". Consider\nremoving nulls from dataset or using handleInvalid = \"keep\" or \"skip\".\n\tat org.apache.spark.ml.feature.VectorAssembler$.$anonfun$assemble$1(VectorAssembler.scala:291)\n\tat org.apache.spark.ml.feature.VectorAssembler$.$anonfun$assemble$1$adapted(VectorAssembler.scala:260)\n\tat scala.collection.IndexedSeqOptimized.foreach(IndexedSeqOptimized.scala:36)\n\tat scala.collection.IndexedSeqOptimized.foreach$(IndexedSeqOptimized.scala:33)\n\tat scala.collection.mutable.WrappedArray.foreach(WrappedArray.scala:38)\n\tat org.apache.spark.ml.feature.VectorAssembler$.assemble(VectorAssembler.scala:260)\n\tat org.apache.spark.ml.feature.VectorAssembler.$anonfun$transform$6(VectorAssembler.scala:143)\n\t... 22 more\n",
     "output_type": "error",
     "traceback": [
      "\u001b[0;31m---------------------------------------------------------------------------\u001b[0m",
      "\u001b[0;31mPy4JJavaError\u001b[0m                             Traceback (most recent call last)",
      "Cell \u001b[0;32mIn[81], line 24\u001b[0m\n\u001b[1;32m     21\u001b[0m \u001b[38;5;66;03m# Check if 'features_norm' column exists and its data type is compatible\u001b[39;00m\n\u001b[1;32m     22\u001b[0m \u001b[38;5;28;01mif\u001b[39;00m \u001b[38;5;124m'\u001b[39m\u001b[38;5;124mfeatures_norm\u001b[39m\u001b[38;5;124m'\u001b[39m \u001b[38;5;129;01min\u001b[39;00m vector_df\u001b[38;5;241m.\u001b[39mcolumns \u001b[38;5;129;01mand\u001b[39;00m vector_df\u001b[38;5;241m.\u001b[39mschema[\u001b[38;5;124m'\u001b[39m\u001b[38;5;124mfeatures_norm\u001b[39m\u001b[38;5;124m'\u001b[39m]\u001b[38;5;241m.\u001b[39mdataType \u001b[38;5;241m==\u001b[39m DoubleType():\n\u001b[1;32m     23\u001b[0m     \u001b[38;5;66;03m# Check for zero norm vectors\u001b[39;00m\n\u001b[0;32m---> 24\u001b[0m     zero_norm_count \u001b[38;5;241m=\u001b[39m \u001b[43mvector_df\u001b[49m\u001b[38;5;241;43m.\u001b[39;49m\u001b[43mfilter\u001b[49m\u001b[43m(\u001b[49m\u001b[43mvector_df\u001b[49m\u001b[38;5;241;43m.\u001b[39;49m\u001b[43mfeatures_norm\u001b[49m\u001b[43m \u001b[49m\u001b[38;5;241;43m==\u001b[39;49m\u001b[43m \u001b[49m\u001b[38;5;241;43m0.0\u001b[39;49m\u001b[43m)\u001b[49m\u001b[38;5;241;43m.\u001b[39;49m\u001b[43mcount\u001b[49m\u001b[43m(\u001b[49m\u001b[43m)\u001b[49m\n\u001b[1;32m     25\u001b[0m     \u001b[38;5;28mprint\u001b[39m(\u001b[38;5;124m\"\u001b[39m\u001b[38;5;124mNumber of zero norm vectors:\u001b[39m\u001b[38;5;124m\"\u001b[39m, zero_norm_count)\n\u001b[1;32m     27\u001b[0m     \u001b[38;5;66;03m# Define a user-defined function (UDF) to calculate cosine similarity\u001b[39;00m\n",
      "File \u001b[0;32m~/spark/python/pyspark/sql/dataframe.py:1238\u001b[0m, in \u001b[0;36mDataFrame.count\u001b[0;34m(self)\u001b[0m\n\u001b[1;32m   1215\u001b[0m \u001b[38;5;28;01mdef\u001b[39;00m \u001b[38;5;21mcount\u001b[39m(\u001b[38;5;28mself\u001b[39m) \u001b[38;5;241m-\u001b[39m\u001b[38;5;241m>\u001b[39m \u001b[38;5;28mint\u001b[39m:\n\u001b[1;32m   1216\u001b[0m \u001b[38;5;250m    \u001b[39m\u001b[38;5;124;03m\"\"\"Returns the number of rows in this :class:`DataFrame`.\u001b[39;00m\n\u001b[1;32m   1217\u001b[0m \n\u001b[1;32m   1218\u001b[0m \u001b[38;5;124;03m    .. versionadded:: 1.3.0\u001b[39;00m\n\u001b[0;32m   (...)\u001b[0m\n\u001b[1;32m   1236\u001b[0m \u001b[38;5;124;03m    3\u001b[39;00m\n\u001b[1;32m   1237\u001b[0m \u001b[38;5;124;03m    \"\"\"\u001b[39;00m\n\u001b[0;32m-> 1238\u001b[0m     \u001b[38;5;28;01mreturn\u001b[39;00m \u001b[38;5;28mint\u001b[39m(\u001b[38;5;28;43mself\u001b[39;49m\u001b[38;5;241;43m.\u001b[39;49m\u001b[43m_jdf\u001b[49m\u001b[38;5;241;43m.\u001b[39;49m\u001b[43mcount\u001b[49m\u001b[43m(\u001b[49m\u001b[43m)\u001b[49m)\n",
      "File \u001b[0;32m~/my_venv/lib/python3.11/site-packages/py4j/java_gateway.py:1322\u001b[0m, in \u001b[0;36mJavaMember.__call__\u001b[0;34m(self, *args)\u001b[0m\n\u001b[1;32m   1316\u001b[0m command \u001b[38;5;241m=\u001b[39m proto\u001b[38;5;241m.\u001b[39mCALL_COMMAND_NAME \u001b[38;5;241m+\u001b[39m\\\n\u001b[1;32m   1317\u001b[0m     \u001b[38;5;28mself\u001b[39m\u001b[38;5;241m.\u001b[39mcommand_header \u001b[38;5;241m+\u001b[39m\\\n\u001b[1;32m   1318\u001b[0m     args_command \u001b[38;5;241m+\u001b[39m\\\n\u001b[1;32m   1319\u001b[0m     proto\u001b[38;5;241m.\u001b[39mEND_COMMAND_PART\n\u001b[1;32m   1321\u001b[0m answer \u001b[38;5;241m=\u001b[39m \u001b[38;5;28mself\u001b[39m\u001b[38;5;241m.\u001b[39mgateway_client\u001b[38;5;241m.\u001b[39msend_command(command)\n\u001b[0;32m-> 1322\u001b[0m return_value \u001b[38;5;241m=\u001b[39m \u001b[43mget_return_value\u001b[49m\u001b[43m(\u001b[49m\n\u001b[1;32m   1323\u001b[0m \u001b[43m    \u001b[49m\u001b[43manswer\u001b[49m\u001b[43m,\u001b[49m\u001b[43m \u001b[49m\u001b[38;5;28;43mself\u001b[39;49m\u001b[38;5;241;43m.\u001b[39;49m\u001b[43mgateway_client\u001b[49m\u001b[43m,\u001b[49m\u001b[43m \u001b[49m\u001b[38;5;28;43mself\u001b[39;49m\u001b[38;5;241;43m.\u001b[39;49m\u001b[43mtarget_id\u001b[49m\u001b[43m,\u001b[49m\u001b[43m \u001b[49m\u001b[38;5;28;43mself\u001b[39;49m\u001b[38;5;241;43m.\u001b[39;49m\u001b[43mname\u001b[49m\u001b[43m)\u001b[49m\n\u001b[1;32m   1325\u001b[0m \u001b[38;5;28;01mfor\u001b[39;00m temp_arg \u001b[38;5;129;01min\u001b[39;00m temp_args:\n\u001b[1;32m   1326\u001b[0m     \u001b[38;5;28;01mif\u001b[39;00m \u001b[38;5;28mhasattr\u001b[39m(temp_arg, \u001b[38;5;124m\"\u001b[39m\u001b[38;5;124m_detach\u001b[39m\u001b[38;5;124m\"\u001b[39m):\n",
      "File \u001b[0;32m~/spark/python/pyspark/errors/exceptions/captured.py:179\u001b[0m, in \u001b[0;36mcapture_sql_exception.<locals>.deco\u001b[0;34m(*a, **kw)\u001b[0m\n\u001b[1;32m    177\u001b[0m \u001b[38;5;28;01mdef\u001b[39;00m \u001b[38;5;21mdeco\u001b[39m(\u001b[38;5;241m*\u001b[39ma: Any, \u001b[38;5;241m*\u001b[39m\u001b[38;5;241m*\u001b[39mkw: Any) \u001b[38;5;241m-\u001b[39m\u001b[38;5;241m>\u001b[39m Any:\n\u001b[1;32m    178\u001b[0m     \u001b[38;5;28;01mtry\u001b[39;00m:\n\u001b[0;32m--> 179\u001b[0m         \u001b[38;5;28;01mreturn\u001b[39;00m \u001b[43mf\u001b[49m\u001b[43m(\u001b[49m\u001b[38;5;241;43m*\u001b[39;49m\u001b[43ma\u001b[49m\u001b[43m,\u001b[49m\u001b[43m \u001b[49m\u001b[38;5;241;43m*\u001b[39;49m\u001b[38;5;241;43m*\u001b[39;49m\u001b[43mkw\u001b[49m\u001b[43m)\u001b[49m\n\u001b[1;32m    180\u001b[0m     \u001b[38;5;28;01mexcept\u001b[39;00m Py4JJavaError \u001b[38;5;28;01mas\u001b[39;00m e:\n\u001b[1;32m    181\u001b[0m         converted \u001b[38;5;241m=\u001b[39m convert_exception(e\u001b[38;5;241m.\u001b[39mjava_exception)\n",
      "File \u001b[0;32m~/my_venv/lib/python3.11/site-packages/py4j/protocol.py:326\u001b[0m, in \u001b[0;36mget_return_value\u001b[0;34m(answer, gateway_client, target_id, name)\u001b[0m\n\u001b[1;32m    324\u001b[0m value \u001b[38;5;241m=\u001b[39m OUTPUT_CONVERTER[\u001b[38;5;28mtype\u001b[39m](answer[\u001b[38;5;241m2\u001b[39m:], gateway_client)\n\u001b[1;32m    325\u001b[0m \u001b[38;5;28;01mif\u001b[39;00m answer[\u001b[38;5;241m1\u001b[39m] \u001b[38;5;241m==\u001b[39m REFERENCE_TYPE:\n\u001b[0;32m--> 326\u001b[0m     \u001b[38;5;28;01mraise\u001b[39;00m Py4JJavaError(\n\u001b[1;32m    327\u001b[0m         \u001b[38;5;124m\"\u001b[39m\u001b[38;5;124mAn error occurred while calling \u001b[39m\u001b[38;5;132;01m{0}\u001b[39;00m\u001b[38;5;132;01m{1}\u001b[39;00m\u001b[38;5;132;01m{2}\u001b[39;00m\u001b[38;5;124m.\u001b[39m\u001b[38;5;130;01m\\n\u001b[39;00m\u001b[38;5;124m\"\u001b[39m\u001b[38;5;241m.\u001b[39m\n\u001b[1;32m    328\u001b[0m         \u001b[38;5;28mformat\u001b[39m(target_id, \u001b[38;5;124m\"\u001b[39m\u001b[38;5;124m.\u001b[39m\u001b[38;5;124m\"\u001b[39m, name), value)\n\u001b[1;32m    329\u001b[0m \u001b[38;5;28;01melse\u001b[39;00m:\n\u001b[1;32m    330\u001b[0m     \u001b[38;5;28;01mraise\u001b[39;00m Py4JError(\n\u001b[1;32m    331\u001b[0m         \u001b[38;5;124m\"\u001b[39m\u001b[38;5;124mAn error occurred while calling \u001b[39m\u001b[38;5;132;01m{0}\u001b[39;00m\u001b[38;5;132;01m{1}\u001b[39;00m\u001b[38;5;132;01m{2}\u001b[39;00m\u001b[38;5;124m. Trace:\u001b[39m\u001b[38;5;130;01m\\n\u001b[39;00m\u001b[38;5;132;01m{3}\u001b[39;00m\u001b[38;5;130;01m\\n\u001b[39;00m\u001b[38;5;124m\"\u001b[39m\u001b[38;5;241m.\u001b[39m\n\u001b[1;32m    332\u001b[0m         \u001b[38;5;28mformat\u001b[39m(target_id, \u001b[38;5;124m\"\u001b[39m\u001b[38;5;124m.\u001b[39m\u001b[38;5;124m\"\u001b[39m, name, value))\n",
      "\u001b[0;31mPy4JJavaError\u001b[0m: An error occurred while calling o4913.count.\n: org.apache.spark.SparkException: Job aborted due to stage failure: Task 0 in stage 304.0 failed 4 times, most recent failure: Lost task 0.3 in stage 304.0 (TID 708) (10.0.8.186 executor 0): org.apache.spark.SparkException: [FAILED_EXECUTE_UDF] Failed to execute user defined function (`VectorAssembler$$Lambda$2231/0x00007a2740aab598`: (struct<100459:double,100644:double,100846:double,100906:double,101209:double,101851:double,101876:double,102275:double,102647:double,102702:double,102967:double,104399:double,104429:double,10447:double,104636:double,104665:double,105374:double,105517:double,105979:double,106225:double,106816:double,107021:double,107301:double,107453:double,107784:double,107951:double,108005:double,10819:double,108285:double,108352:double,109461:double,109574:double,109955:double,110029:double,110483:double,110912:double,110934:double,110973:double,111174:double,111947:double,112001:double,112026:double,112881:double,113270:double,113519:double,113817:double,113904:double,113983:double,114178:double,114368:double,114414:double,114444:double,114868:double,114988:double,115002:double,115003:double,115120:double,115490:double,11601:double,116599:double,11676:double,117251:double,117539:double,119575:double,11993:double,120093:double,120548:double,122429:double,122793:double,122881:double,123790:double,123883:double,123981:double,124078:double,124079:double,124363:double,124487:double,124942:double,125039:double,12538:double,125519:double,125692:double,125774:double,126492:double,126604:double,126736:double,127200:double,127233:double,127359:double,127429:double,127914:double,12824:double,128696:double,128835:double,129008:double,129074:double,129358:double,129465:double,129716:double,12982:double,129851:double,130474:double,130554:double,130571:double,13082:double,131027:double,131046:double,131402:double,131837:double,131855:double,132083:double,13273:double,133571:double,133689:double,133747:double,133868:double,135045:double,135149:double,135265:double,135458:double,13552:double,135831:double,136010:double,136139:double,136205:double,136252:double,136382:double,137589:double,137688:double,138097:double,138441:double,13850:double,138578:double,138844:double,139467:double,139742:double,140000:double,140036:double,140358:double,141493:double,141710:double,142093:double,142524:double,143175:double,143253:double,143415:double,143792:double,14422:double,144531:double,144555:double,14521:double,145449:double,145451:double,145619:double,145641:double,146113:double,146230:double,146348:double,147141:double,147451:double,147847:double,147965:double,148199:double,148258:double,148744:double,149069:double,149907:double,149908:double,149934:double,150124:double,150498:double,150968:double,150979:double,151790:double,151806:double,152186:double,152249:double,153563:double,153662:double,153718:double,15408:double,15418:double,154992:double,155014:double,155147:double,155219:double,155495:double,156150:double,156269:double,156467:double,157273:double,157811:double,158295:double,159033:double,159376:double,159858:double,160032:double,160819:double,16106:double,161752:double,162052:double,162639:double,162738:double,163804:double,163973:double,164027:double,164323:double,164465:double,164533:double,164675:double,164828:double,165232:double,165308:double,165319:double,166123:double,16634:double,166596:double,167349:double,167471:double,167800:double,16795:double,168047:double,168064:double,168144:double,168245:double,16916:double,169233:double,16966:double,169663:double,169699:double,170229:double,170513:double,170518:double,170575:double,170634:double,170742:double,170947:double,171118:double,172030:double,172512:double,172742:double,173291:double,173415:double,173632:double,173684:double,173835:double,174216:double,174304:double,174791:double,175003:double,175886:double,177072:double,177090:double,177374:double,177432:double,177458:double,177690:double,178181:double,178199:double,178667:double,178950:double,17950:double,179733:double,179744:double,179772:double,179978:double,180348:double,180586:double,180651:double,18067:double,180917:double,180957:double,181176:double,181687:double,182085:double,182086:double,182987:double,182993:double,183196:double,183995:double,18401:double,184299:double,185233:double,185384:double,186570:double,187145:double,187256:double,187517:double,188010:double,189334:double,189516:double,189835:double,189973:double,190459:double,190708:double,190807:double,19085:double,190925:double,191187:double,192093:double,193499:double,193560:double,194600:double,194669:double,195694:double,196047:double,196077:double,196160:double,196457:double,196502:double,19664:double,197364:double,197659:double,197775:double,198621:double,198699:double,198711:double,199416:double,199772:double,200226:double,200674:double,201017:double,20115:double,201290:double,201447:double,201526:double,201674:double,201768:double,201783:double,20201:double,203240:double,203799:double,203968:double,204167:double,204522:double,204591:double,204864:double,205473:double,205735:double,205980:double,206074:double,206534:double,206567:double,206979:double,207246:double,207349:double,207499:double,207782:double,208141:double,208147:double,208406:double,208410:double,208568:double,208671:double,208829:double,209373:double,209516:double,209756:double,209875:double,210035:double,21014:double,210485:double,210792:double,210959:double,211426:double,211430:double,211847:double,211919:double,21252:double,212645:double,212898:double,212923:double,212965:double,213150:double,213350:double,214272:double,214786:double,21576:double,216012:double,216444:double,216466:double,21659:double,216683:double,217106:double,217121:double,217375:double,217740:double,218552:double,218608:double,219546:double,220278:double,221445:double,222050:double,222204:double,222296:double,222941:double,223087:double,223154:double,224138:double,224349:double,224430:double,224435:double,224646:double,224764:double,225087:double,225199:double,225232:double,225763:double,225810:double,225986:double,225989:double,22625:double,226545:double,226879:double,226965:double,227447:double,227520:double,2276:double,227705:double,228681:double,228764:double,228998:double,229011:double,229313:double,229329:double,229551:double,229741:double,230249:double,230496:double,230522:double,230708:double,231210:double,231237:double,231827:double,231857:double,232131:double,23288:double,232945:double,233911:double,233917:double,234359:double,234623:double,234721:double,234828:double,235105:double,235282:double,235392:double,235842:double,235935:double,236058:double,236172:double,236283:double,236340:double,236757:double,236948:double,236959:double,23768:double,238120:double,238526:double,238541:double,238545:double,238557:double,238699:double,23872:double,238781:double,238961:double,23902:double,239584:double,239594:double,240144:double,240567:double,240568:double,241198:double,241548:double,241666:double,24194:double,241980:double,242006:double,242083:double,242106:double,242299:double,242409:double,242646:double,242824:double,243077:double,244349:double,244688:double,244736:double,245371:double,245410:double,245645:double,245827:double,245963:double,246156:double,246311:double,246513:double,246655:double,246671:double,247429:double,247447:double,247752:double,248718:double,249111:double,24921:double,249628:double,249862:double,249894:double,250184:double,250405:double,250764:double,250962:double,251394:double,251422:double,251613:double,251843:double,251844:double,252071:double,252222:double,252695:double,252820:double,252848:double,253556:double,253821:double,254:double,25409:double,254206:double,254465:double,254899:double,254971:double,255092:double,255218:double,255489:double,25601:double,256167:double,256402:double,256407:double,257028:double,257204:double,258152:double,258185:double,258534:double,258938:double,259260:double,259380:double,259629:double,25981:double,260897:double,261105:double,261829:double,262399:double,262998:double,263163:double,263460:double,263877:double,264031:double,264082:double,264317:double,264321:double,264637:double,265115:double,26516:double,265313:double,26535:double,26544:double,265595:double,26583:double,265889:double,26593:double,266056:double,266226:double,266753:double,266865:double,267635:double,268030:double,268032:double,268110:double,268330:double,268932:double,269566:double,269719:double,269890:double,270713:double,270820:double,271195:double,271284:double,271448:double,271705:double,273979:double,274004:double,274061:double,274301:double,274308:double,275970:double,27617:double,2766:double,277427:double,277639:double,278418:double,28204:double,28360:double,28523:double,28591:double,29259:double,2977:double,29855:double,30276:double,30487:double,30511:double,30533:double,30711:double,30735:double,30972:double,31315:double,31391:double,31556:double,31826:double,31846:double,32195:double,32440:double,32721:double,32773:double,3363:double,33974:double,35050:double,35836:double,35857:double,35859:double,36606:double,36609:double,36836:double,36907:double,37567:double,37712:double,37950:double,38023:double,38273:double,38781:double,39281:double,39467:double,39616:double,39646:double,39773:double,4017:double,40889:double,40943:double,41084:double,41841:double,42914:double,43246:double,43806:double,43842:double,4385:double,44595:double,44728:double,46398:double,47316:double,48494:double,49109:double,49460:double,49889:double,50225:double,51094:double,51350:double,51386:double,51450:double,51883:double,52199:double,52584:double,52614:double,52853:double,52917:double,53174:double,53628:double,53729:double,54218:double,55187:double,55490:double,55492:double,55548:double,55734:double,55892:double,56271:double,56399:double,56447:double,56856:double,56959:double,59172:double,59971:double,60244:double,60277:double,60337:double,60707:double,61619:double,62272:double,6251:double,62891:double,62895:double,6323:double,63394:double,63714:double,63938:double,64436:double,65258:double,6543:double,6563:double,6575:double,66680:double,67840:double,68555:double,69042:double,69078:double,69232:double,69355:double,69405:double,69697:double,69808:double,69971:double,70052:double,70415:double,70594:double,7158:double,71712:double,72352:double,7286:double,72992:double,73394:double,7346:double,73651:double,75591:double,75860:double,76151:double,76223:double,76352:double,76499:double,76626:double,76818:double,76942:double,77809:double,77940:double,78553:double,78783:double,78834:double,78973:double,7915:double,79186:double,79441:double,80538:double,8067:double,80683:double,81045:double,81492:double,81560:double,81977:double,82407:double,8245:double,82831:double,82893:double,82926:double,83637:double,84024:double,85426:double,85526:double,85656:double,85701:double,85757:double,85993:double,86202:double,86243:double,86641:double,8681:double,87141:double,87143:double,87555:double,87746:double,87974:double,88283:double,88677:double,88693:double,88733:double,88937:double,8936:double,89602:double,91203:double,91342:double,91832:double,91931:double,92547:double,92652:double,92810:double,92979:double,93047:double,93085:double,93363:double,93629:double,94242:double,94347:double,94853:double,94923:double,95193:double,95316:double,95359:double,95903:double,95932:double,95991:double,96054:double,96448:double,97874:double,98391:double,98741:double,98758:double>) => struct<type:tinyint,size:int,indices:array<int>,values:array<double>>).\n\tat org.apache.spark.sql.errors.QueryExecutionErrors$.failedExecuteUserDefinedFunctionError(QueryExecutionErrors.scala:198)\n\tat org.apache.spark.sql.errors.QueryExecutionErrors.failedExecuteUserDefinedFunctionError(QueryExecutionErrors.scala)\n\tat org.apache.spark.sql.catalyst.expressions.GeneratedClass$SpecificUnsafeProjection.ScalaUDF_0$(Unknown Source)\n\tat org.apache.spark.sql.catalyst.expressions.GeneratedClass$SpecificUnsafeProjection.apply(Unknown Source)\n\tat org.apache.spark.sql.execution.aggregate.AggregationIterator.$anonfun$generateResultProjection$5(AggregationIterator.scala:260)\n\tat org.apache.spark.sql.execution.aggregate.SortBasedAggregationIterator.next(SortBasedAggregationIterator.scala:151)\n\tat org.apache.spark.sql.execution.aggregate.SortBasedAggregationIterator.next(SortBasedAggregationIterator.scala:30)\n\tat scala.collection.Iterator$$anon$10.next(Iterator.scala:461)\n\tat org.apache.spark.ContextAwareIterator.next(ContextAwareIterator.scala:41)\n\tat scala.collection.Iterator$$anon$10.next(Iterator.scala:461)\n\tat scala.collection.Iterator$$anon$10.next(Iterator.scala:461)\n\tat scala.collection.Iterator$GroupedIterator.takeDestructively(Iterator.scala:1161)\n\tat scala.collection.Iterator$GroupedIterator.go(Iterator.scala:1176)\n\tat scala.collection.Iterator$GroupedIterator.fill(Iterator.scala:1213)\n\tat scala.collection.Iterator$GroupedIterator.hasNext(Iterator.scala:1217)\n\tat scala.collection.Iterator$$anon$10.hasNext(Iterator.scala:460)\n\tat scala.collection.Iterator.foreach(Iterator.scala:943)\n\tat scala.collection.Iterator.foreach$(Iterator.scala:943)\n\tat scala.collection.AbstractIterator.foreach(Iterator.scala:1431)\n\tat org.apache.spark.api.python.PythonRDD$.writeIteratorToStream(PythonRDD.scala:322)\n\tat org.apache.spark.sql.execution.python.BasePythonUDFRunner$PythonUDFWriterThread.writeIteratorToStream(PythonUDFRunner.scala:58)\n\tat org.apache.spark.api.python.BasePythonRunner$WriterThread.$anonfun$run$1(PythonRunner.scala:451)\n\tat org.apache.spark.util.Utils$.logUncaughtExceptions(Utils.scala:1928)\n\tat org.apache.spark.api.python.BasePythonRunner$WriterThread.run(PythonRunner.scala:282)\nCaused by: org.apache.spark.SparkException: Encountered null while assembling a row with handleInvalid = \"error\". Consider\nremoving nulls from dataset or using handleInvalid = \"keep\" or \"skip\".\n\tat org.apache.spark.ml.feature.VectorAssembler$.$anonfun$assemble$1(VectorAssembler.scala:291)\n\tat org.apache.spark.ml.feature.VectorAssembler$.$anonfun$assemble$1$adapted(VectorAssembler.scala:260)\n\tat scala.collection.IndexedSeqOptimized.foreach(IndexedSeqOptimized.scala:36)\n\tat scala.collection.IndexedSeqOptimized.foreach$(IndexedSeqOptimized.scala:33)\n\tat scala.collection.mutable.WrappedArray.foreach(WrappedArray.scala:38)\n\tat org.apache.spark.ml.feature.VectorAssembler$.assemble(VectorAssembler.scala:260)\n\tat org.apache.spark.ml.feature.VectorAssembler.$anonfun$transform$6(VectorAssembler.scala:143)\n\t... 22 more\n\nDriver stacktrace:\n\tat org.apache.spark.scheduler.DAGScheduler.failJobAndIndependentStages(DAGScheduler.scala:2856)\n\tat org.apache.spark.scheduler.DAGScheduler.$anonfun$abortStage$2(DAGScheduler.scala:2792)\n\tat org.apache.spark.scheduler.DAGScheduler.$anonfun$abortStage$2$adapted(DAGScheduler.scala:2791)\n\tat scala.collection.mutable.ResizableArray.foreach(ResizableArray.scala:62)\n\tat scala.collection.mutable.ResizableArray.foreach$(ResizableArray.scala:55)\n\tat scala.collection.mutable.ArrayBuffer.foreach(ArrayBuffer.scala:49)\n\tat org.apache.spark.scheduler.DAGScheduler.abortStage(DAGScheduler.scala:2791)\n\tat org.apache.spark.scheduler.DAGScheduler.$anonfun$handleTaskSetFailed$1(DAGScheduler.scala:1247)\n\tat org.apache.spark.scheduler.DAGScheduler.$anonfun$handleTaskSetFailed$1$adapted(DAGScheduler.scala:1247)\n\tat scala.Option.foreach(Option.scala:407)\n\tat org.apache.spark.scheduler.DAGScheduler.handleTaskSetFailed(DAGScheduler.scala:1247)\n\tat org.apache.spark.scheduler.DAGSchedulerEventProcessLoop.doOnReceive(DAGScheduler.scala:3060)\n\tat org.apache.spark.scheduler.DAGSchedulerEventProcessLoop.onReceive(DAGScheduler.scala:2994)\n\tat org.apache.spark.scheduler.DAGSchedulerEventProcessLoop.onReceive(DAGScheduler.scala:2983)\n\tat org.apache.spark.util.EventLoop$$anon$1.run(EventLoop.scala:49)\nCaused by: org.apache.spark.SparkException: [FAILED_EXECUTE_UDF] Failed to execute user defined function (`VectorAssembler$$Lambda$2231/0x00007a2740aab598`: (struct<100459:double,100644:double,100846:double,100906:double,101209:double,101851:double,101876:double,102275:double,102647:double,102702:double,102967:double,104399:double,104429:double,10447:double,104636:double,104665:double,105374:double,105517:double,105979:double,106225:double,106816:double,107021:double,107301:double,107453:double,107784:double,107951:double,108005:double,10819:double,108285:double,108352:double,109461:double,109574:double,109955:double,110029:double,110483:double,110912:double,110934:double,110973:double,111174:double,111947:double,112001:double,112026:double,112881:double,113270:double,113519:double,113817:double,113904:double,113983:double,114178:double,114368:double,114414:double,114444:double,114868:double,114988:double,115002:double,115003:double,115120:double,115490:double,11601:double,116599:double,11676:double,117251:double,117539:double,119575:double,11993:double,120093:double,120548:double,122429:double,122793:double,122881:double,123790:double,123883:double,123981:double,124078:double,124079:double,124363:double,124487:double,124942:double,125039:double,12538:double,125519:double,125692:double,125774:double,126492:double,126604:double,126736:double,127200:double,127233:double,127359:double,127429:double,127914:double,12824:double,128696:double,128835:double,129008:double,129074:double,129358:double,129465:double,129716:double,12982:double,129851:double,130474:double,130554:double,130571:double,13082:double,131027:double,131046:double,131402:double,131837:double,131855:double,132083:double,13273:double,133571:double,133689:double,133747:double,133868:double,135045:double,135149:double,135265:double,135458:double,13552:double,135831:double,136010:double,136139:double,136205:double,136252:double,136382:double,137589:double,137688:double,138097:double,138441:double,13850:double,138578:double,138844:double,139467:double,139742:double,140000:double,140036:double,140358:double,141493:double,141710:double,142093:double,142524:double,143175:double,143253:double,143415:double,143792:double,14422:double,144531:double,144555:double,14521:double,145449:double,145451:double,145619:double,145641:double,146113:double,146230:double,146348:double,147141:double,147451:double,147847:double,147965:double,148199:double,148258:double,148744:double,149069:double,149907:double,149908:double,149934:double,150124:double,150498:double,150968:double,150979:double,151790:double,151806:double,152186:double,152249:double,153563:double,153662:double,153718:double,15408:double,15418:double,154992:double,155014:double,155147:double,155219:double,155495:double,156150:double,156269:double,156467:double,157273:double,157811:double,158295:double,159033:double,159376:double,159858:double,160032:double,160819:double,16106:double,161752:double,162052:double,162639:double,162738:double,163804:double,163973:double,164027:double,164323:double,164465:double,164533:double,164675:double,164828:double,165232:double,165308:double,165319:double,166123:double,16634:double,166596:double,167349:double,167471:double,167800:double,16795:double,168047:double,168064:double,168144:double,168245:double,16916:double,169233:double,16966:double,169663:double,169699:double,170229:double,170513:double,170518:double,170575:double,170634:double,170742:double,170947:double,171118:double,172030:double,172512:double,172742:double,173291:double,173415:double,173632:double,173684:double,173835:double,174216:double,174304:double,174791:double,175003:double,175886:double,177072:double,177090:double,177374:double,177432:double,177458:double,177690:double,178181:double,178199:double,178667:double,178950:double,17950:double,179733:double,179744:double,179772:double,179978:double,180348:double,180586:double,180651:double,18067:double,180917:double,180957:double,181176:double,181687:double,182085:double,182086:double,182987:double,182993:double,183196:double,183995:double,18401:double,184299:double,185233:double,185384:double,186570:double,187145:double,187256:double,187517:double,188010:double,189334:double,189516:double,189835:double,189973:double,190459:double,190708:double,190807:double,19085:double,190925:double,191187:double,192093:double,193499:double,193560:double,194600:double,194669:double,195694:double,196047:double,196077:double,196160:double,196457:double,196502:double,19664:double,197364:double,197659:double,197775:double,198621:double,198699:double,198711:double,199416:double,199772:double,200226:double,200674:double,201017:double,20115:double,201290:double,201447:double,201526:double,201674:double,201768:double,201783:double,20201:double,203240:double,203799:double,203968:double,204167:double,204522:double,204591:double,204864:double,205473:double,205735:double,205980:double,206074:double,206534:double,206567:double,206979:double,207246:double,207349:double,207499:double,207782:double,208141:double,208147:double,208406:double,208410:double,208568:double,208671:double,208829:double,209373:double,209516:double,209756:double,209875:double,210035:double,21014:double,210485:double,210792:double,210959:double,211426:double,211430:double,211847:double,211919:double,21252:double,212645:double,212898:double,212923:double,212965:double,213150:double,213350:double,214272:double,214786:double,21576:double,216012:double,216444:double,216466:double,21659:double,216683:double,217106:double,217121:double,217375:double,217740:double,218552:double,218608:double,219546:double,220278:double,221445:double,222050:double,222204:double,222296:double,222941:double,223087:double,223154:double,224138:double,224349:double,224430:double,224435:double,224646:double,224764:double,225087:double,225199:double,225232:double,225763:double,225810:double,225986:double,225989:double,22625:double,226545:double,226879:double,226965:double,227447:double,227520:double,2276:double,227705:double,228681:double,228764:double,228998:double,229011:double,229313:double,229329:double,229551:double,229741:double,230249:double,230496:double,230522:double,230708:double,231210:double,231237:double,231827:double,231857:double,232131:double,23288:double,232945:double,233911:double,233917:double,234359:double,234623:double,234721:double,234828:double,235105:double,235282:double,235392:double,235842:double,235935:double,236058:double,236172:double,236283:double,236340:double,236757:double,236948:double,236959:double,23768:double,238120:double,238526:double,238541:double,238545:double,238557:double,238699:double,23872:double,238781:double,238961:double,23902:double,239584:double,239594:double,240144:double,240567:double,240568:double,241198:double,241548:double,241666:double,24194:double,241980:double,242006:double,242083:double,242106:double,242299:double,242409:double,242646:double,242824:double,243077:double,244349:double,244688:double,244736:double,245371:double,245410:double,245645:double,245827:double,245963:double,246156:double,246311:double,246513:double,246655:double,246671:double,247429:double,247447:double,247752:double,248718:double,249111:double,24921:double,249628:double,249862:double,249894:double,250184:double,250405:double,250764:double,250962:double,251394:double,251422:double,251613:double,251843:double,251844:double,252071:double,252222:double,252695:double,252820:double,252848:double,253556:double,253821:double,254:double,25409:double,254206:double,254465:double,254899:double,254971:double,255092:double,255218:double,255489:double,25601:double,256167:double,256402:double,256407:double,257028:double,257204:double,258152:double,258185:double,258534:double,258938:double,259260:double,259380:double,259629:double,25981:double,260897:double,261105:double,261829:double,262399:double,262998:double,263163:double,263460:double,263877:double,264031:double,264082:double,264317:double,264321:double,264637:double,265115:double,26516:double,265313:double,26535:double,26544:double,265595:double,26583:double,265889:double,26593:double,266056:double,266226:double,266753:double,266865:double,267635:double,268030:double,268032:double,268110:double,268330:double,268932:double,269566:double,269719:double,269890:double,270713:double,270820:double,271195:double,271284:double,271448:double,271705:double,273979:double,274004:double,274061:double,274301:double,274308:double,275970:double,27617:double,2766:double,277427:double,277639:double,278418:double,28204:double,28360:double,28523:double,28591:double,29259:double,2977:double,29855:double,30276:double,30487:double,30511:double,30533:double,30711:double,30735:double,30972:double,31315:double,31391:double,31556:double,31826:double,31846:double,32195:double,32440:double,32721:double,32773:double,3363:double,33974:double,35050:double,35836:double,35857:double,35859:double,36606:double,36609:double,36836:double,36907:double,37567:double,37712:double,37950:double,38023:double,38273:double,38781:double,39281:double,39467:double,39616:double,39646:double,39773:double,4017:double,40889:double,40943:double,41084:double,41841:double,42914:double,43246:double,43806:double,43842:double,4385:double,44595:double,44728:double,46398:double,47316:double,48494:double,49109:double,49460:double,49889:double,50225:double,51094:double,51350:double,51386:double,51450:double,51883:double,52199:double,52584:double,52614:double,52853:double,52917:double,53174:double,53628:double,53729:double,54218:double,55187:double,55490:double,55492:double,55548:double,55734:double,55892:double,56271:double,56399:double,56447:double,56856:double,56959:double,59172:double,59971:double,60244:double,60277:double,60337:double,60707:double,61619:double,62272:double,6251:double,62891:double,62895:double,6323:double,63394:double,63714:double,63938:double,64436:double,65258:double,6543:double,6563:double,6575:double,66680:double,67840:double,68555:double,69042:double,69078:double,69232:double,69355:double,69405:double,69697:double,69808:double,69971:double,70052:double,70415:double,70594:double,7158:double,71712:double,72352:double,7286:double,72992:double,73394:double,7346:double,73651:double,75591:double,75860:double,76151:double,76223:double,76352:double,76499:double,76626:double,76818:double,76942:double,77809:double,77940:double,78553:double,78783:double,78834:double,78973:double,7915:double,79186:double,79441:double,80538:double,8067:double,80683:double,81045:double,81492:double,81560:double,81977:double,82407:double,8245:double,82831:double,82893:double,82926:double,83637:double,84024:double,85426:double,85526:double,85656:double,85701:double,85757:double,85993:double,86202:double,86243:double,86641:double,8681:double,87141:double,87143:double,87555:double,87746:double,87974:double,88283:double,88677:double,88693:double,88733:double,88937:double,8936:double,89602:double,91203:double,91342:double,91832:double,91931:double,92547:double,92652:double,92810:double,92979:double,93047:double,93085:double,93363:double,93629:double,94242:double,94347:double,94853:double,94923:double,95193:double,95316:double,95359:double,95903:double,95932:double,95991:double,96054:double,96448:double,97874:double,98391:double,98741:double,98758:double>) => struct<type:tinyint,size:int,indices:array<int>,values:array<double>>).\n\tat org.apache.spark.sql.errors.QueryExecutionErrors$.failedExecuteUserDefinedFunctionError(QueryExecutionErrors.scala:198)\n\tat org.apache.spark.sql.errors.QueryExecutionErrors.failedExecuteUserDefinedFunctionError(QueryExecutionErrors.scala)\n\tat org.apache.spark.sql.catalyst.expressions.GeneratedClass$SpecificUnsafeProjection.ScalaUDF_0$(Unknown Source)\n\tat org.apache.spark.sql.catalyst.expressions.GeneratedClass$SpecificUnsafeProjection.apply(Unknown Source)\n\tat org.apache.spark.sql.execution.aggregate.AggregationIterator.$anonfun$generateResultProjection$5(AggregationIterator.scala:260)\n\tat org.apache.spark.sql.execution.aggregate.SortBasedAggregationIterator.next(SortBasedAggregationIterator.scala:151)\n\tat org.apache.spark.sql.execution.aggregate.SortBasedAggregationIterator.next(SortBasedAggregationIterator.scala:30)\n\tat scala.collection.Iterator$$anon$10.next(Iterator.scala:461)\n\tat org.apache.spark.ContextAwareIterator.next(ContextAwareIterator.scala:41)\n\tat scala.collection.Iterator$$anon$10.next(Iterator.scala:461)\n\tat scala.collection.Iterator$$anon$10.next(Iterator.scala:461)\n\tat scala.collection.Iterator$GroupedIterator.takeDestructively(Iterator.scala:1161)\n\tat scala.collection.Iterator$GroupedIterator.go(Iterator.scala:1176)\n\tat scala.collection.Iterator$GroupedIterator.fill(Iterator.scala:1213)\n\tat scala.collection.Iterator$GroupedIterator.hasNext(Iterator.scala:1217)\n\tat scala.collection.Iterator$$anon$10.hasNext(Iterator.scala:460)\n\tat scala.collection.Iterator.foreach(Iterator.scala:943)\n\tat scala.collection.Iterator.foreach$(Iterator.scala:943)\n\tat scala.collection.AbstractIterator.foreach(Iterator.scala:1431)\n\tat org.apache.spark.api.python.PythonRDD$.writeIteratorToStream(PythonRDD.scala:322)\n\tat org.apache.spark.sql.execution.python.BasePythonUDFRunner$PythonUDFWriterThread.writeIteratorToStream(PythonUDFRunner.scala:58)\n\tat org.apache.spark.api.python.BasePythonRunner$WriterThread.$anonfun$run$1(PythonRunner.scala:451)\n\tat org.apache.spark.util.Utils$.logUncaughtExceptions(Utils.scala:1928)\n\tat org.apache.spark.api.python.BasePythonRunner$WriterThread.run(PythonRunner.scala:282)\nCaused by: org.apache.spark.SparkException: Encountered null while assembling a row with handleInvalid = \"error\". Consider\nremoving nulls from dataset or using handleInvalid = \"keep\" or \"skip\".\n\tat org.apache.spark.ml.feature.VectorAssembler$.$anonfun$assemble$1(VectorAssembler.scala:291)\n\tat org.apache.spark.ml.feature.VectorAssembler$.$anonfun$assemble$1$adapted(VectorAssembler.scala:260)\n\tat scala.collection.IndexedSeqOptimized.foreach(IndexedSeqOptimized.scala:36)\n\tat scala.collection.IndexedSeqOptimized.foreach$(IndexedSeqOptimized.scala:33)\n\tat scala.collection.mutable.WrappedArray.foreach(WrappedArray.scala:38)\n\tat org.apache.spark.ml.feature.VectorAssembler$.assemble(VectorAssembler.scala:260)\n\tat org.apache.spark.ml.feature.VectorAssembler.$anonfun$transform$6(VectorAssembler.scala:143)\n\t... 22 more\n"
     ]
    }
   ],
   "source": [
    "from pyspark.sql.functions import col, udf, isnan, when\n",
    "from pyspark.sql.types import DoubleType\n",
    "from pyspark.ml.feature import VectorAssembler\n",
    "\n",
    "# Convert columns to double type\n",
    "pt_renamed = pt.select([col(c).cast(\"double\").alias(c) for c in pt.columns])\n",
    "\n",
    "# Assemble features into a single vector column\n",
    "assembler = VectorAssembler(inputCols=pt_renamed.columns[1:], outputCol=\"features\")\n",
    "vector_df = assembler.transform(pt_renamed)\n",
    "\n",
    "# Calculate norm of each feature vector\n",
    "norm_udf = udf(lambda v: float(v.norm(2)), DoubleType())\n",
    "\n",
    "# Apply the UDF to calculate the norm of the features column\n",
    "vector_df = vector_df.withColumn('features_norm', norm_udf(col('features')))\n",
    "\n",
    "# Replace NaN values in 'features_norm' column with 0\n",
    "vector_df = vector_df.withColumn('features_norm', when(isnan(vector_df['features_norm']), 0).otherwise(vector_df['features_norm']))\n",
    "\n",
    "# Check if 'features_norm' column exists and its data type is compatible\n",
    "if 'features_norm' in vector_df.columns and vector_df.schema['features_norm'].dataType == DoubleType():\n",
    "    # Check for zero norm vectors\n",
    "    zero_norm_count = vector_df.filter(vector_df.features_norm == 0.0).count()\n",
    "    print(\"Number of zero norm vectors:\", zero_norm_count)\n",
    "\n",
    "    # Define a user-defined function (UDF) to calculate cosine similarity\n",
    "    cosine_similarity_udf = udf(lambda v1, v2: float(v1.dot(v2) / (v1.norm(2) * v2.norm(2))), DoubleType())\n",
    "\n",
    "    # Cross join to calculate cosine similarity between all pairs of vectors\n",
    "    similarity_score = vector_df.alias(\"df1\").crossJoin(\n",
    "        vector_df.alias(\"df2\")\n",
    "    ).select(\n",
    "        col(\"df1.Book-Title\").alias(\"Book-Title1\"),\n",
    "        col(\"df2.Book-Title\").alias(\"Book-Title2\"),\n",
    "        cosine_similarity_udf(\"df1.features\", \"df2.features\").alias(\"cosine_similarity\")\n",
    "    )\n",
    "\n",
    "    # Show the results\n",
    "    similarity_score.show()\n",
    "\n",
    "    # Now, let's proceed with the recommendations code\n",
    "\n",
    "    def recommend(book_name, similarity_score):\n",
    "        # Find similar items based on similarity score\n",
    "        similar_items = similarity_score.filter((col(\"Book-Title1\") == book_name) | (col(\"Book-Title2\") == book_name)) \\\n",
    "                                        .filter(col(\"Book-Title1\") != col(\"Book-Title2\")) \\\n",
    "                                        .orderBy(col(\"cosine_similarity\").desc()) \\\n",
    "                                        .limit(4) \\\n",
    "                                        .collect()\n",
    "\n",
    "        data = []\n",
    "        for row in similar_items:\n",
    "            similar_book = row[\"Book-Title1\"] if row[\"Book-Title2\"] == book_name else row[\"Book-Title2\"]\n",
    "            temp_df = pt.filter(pt['Book-Title'] == similar_book)\n",
    "            item = [\n",
    "                similar_book,\n",
    "                temp_df.select(\"Book-Author\").distinct().first()[0],\n",
    "                temp_df.select(\"Image-URL-M\").distinct().first()[0]\n",
    "            ]\n",
    "            data.append(item)\n",
    "\n",
    "        return data\n",
    "\n",
    "    # Call recommend function\n",
    "    recommendations = recommend('1984', similarity_score)\n",
    "else:\n",
    "    print(\"'features_norm' column doesn't exist or has incompatible data type.\")\n",
    "\n"
   ]
  },
  {
   "cell_type": "code",
   "execution_count": null,
   "id": "e4f4ee2d-8d00-402b-8007-f276791a60a6",
   "metadata": {},
   "outputs": [],
   "source": [
    "# Convert PySpark DataFrame to Pandas DataFrame\n",
    "pandas_df = popular_df.toPandas()\n",
    "\n",
    "# Save Pandas DataFrame as Pickle file\n",
    "pandas_df.to_pickle(\"popular.pkl\")\n",
    "\n",
    "# Print the first few rows of the Pandas DataFrame\n",
    "print(pandas_df.head())"
   ]
  },
  {
   "cell_type": "code",
   "execution_count": null,
   "id": "e2f65f9c-87dd-4a72-b627-2e9f888ede52",
   "metadata": {},
   "outputs": [],
   "source": [
    "# Drop duplicates based on the 'Book-Title' column\n",
    "books_without_duplicates = books.dropDuplicates(['Book-Title'])\n",
    "\n",
    "# Show the resulting DataFrame\n",
    "books_without_duplicates.show()"
   ]
  },
  {
   "cell_type": "code",
   "execution_count": null,
   "id": "a22c35d2-5405-4611-947a-d2156231736e",
   "metadata": {},
   "outputs": [],
   "source": [
    "# Save pt DataFrame\n",
    "pt.write.parquet(\"/home/hadoop/pt.parquet\")\n",
    "\n",
    "# Save books DataFrame\n",
    "books.write.parquet(\"/home/hadoop/books.parquet\")\n",
    "\n",
    "# Save similarity_score DataFrame\n",
    "similarity_score.write.parquet(\"/home/hadoop/similarity_scores.parquet\")\n"
   ]
  },
  {
   "cell_type": "code",
   "execution_count": null,
   "id": "b7ea47cf-0325-4008-a5d5-a014333c2eef",
   "metadata": {},
   "outputs": [],
   "source": []
  }
 ],
 "metadata": {
  "kernelspec": {
   "display_name": "Python 3 (ipykernel)",
   "language": "python",
   "name": "python3"
  },
  "language_info": {
   "codemirror_mode": {
    "name": "ipython",
    "version": 3
   },
   "file_extension": ".py",
   "mimetype": "text/x-python",
   "name": "python",
   "nbconvert_exporter": "python",
   "pygments_lexer": "ipython3",
   "version": "3.11.6"
  }
 },
 "nbformat": 4,
 "nbformat_minor": 5
}
